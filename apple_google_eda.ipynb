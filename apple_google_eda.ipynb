{
 "cells": [
  {
   "cell_type": "markdown",
   "metadata": {},
   "source": [
    "* subjectivity score\n",
    "* length of tweets -- CHECK\n",
    "* do longer tweets tend to be more positive or negative --  CHECK\n",
    "* word clouds\n",
    "* add random state in train test split -- CHECK\n",
    "* ensemble method -- CHECK\n",
    "* cross validation -- CHECK"
   ]
  },
  {
   "cell_type": "code",
   "execution_count": 183,
   "metadata": {},
   "outputs": [],
   "source": [
    "import pandas as pd\n",
    "import numpy as np\n",
    "import matplotlib.pyplot as plt\n",
    "%matplotlib inline\n",
    "import seaborn as sns"
   ]
  },
  {
   "cell_type": "code",
   "execution_count": 103,
   "metadata": {},
   "outputs": [],
   "source": [
    "import nltk\n",
    "from nltk.corpus import stopwords\n",
    "from nltk.collections import *\n",
    "from nltk import FreqDist, word_tokenize\n",
    "from sklearn.feature_extraction.text import TfidfVectorizer\n",
    "from sklearn.metrics import accuracy_score, precision_score, recall_score, f1_score\n",
    "from sklearn.ensemble import RandomForestClassifier, VotingClassifier\n",
    "from sklearn.naive_bayes import MultinomialNB\n",
    "from sklearn.svm import SVC\n",
    "from sklearn.model_selection import train_test_split, GridSearchCV, cross_validate\n",
    "import string\n",
    "import re"
   ]
  },
  {
   "cell_type": "code",
   "execution_count": 210,
   "metadata": {},
   "outputs": [
    {
     "name": "stderr",
     "output_type": "stream",
     "text": [
      "[nltk_data] Downloading package stopwords to\n",
      "[nltk_data]     C:\\Users\\David\\AppData\\Roaming\\nltk_data...\n",
      "[nltk_data]   Unzipping corpora\\stopwords.zip.\n"
     ]
    },
    {
     "data": {
      "text/plain": [
       "True"
      ]
     },
     "execution_count": 210,
     "metadata": {},
     "output_type": "execute_result"
    }
   ],
   "source": [
    "# nltk.download('stopwords')"
   ]
  },
  {
   "cell_type": "code",
   "execution_count": 306,
   "metadata": {},
   "outputs": [],
   "source": [
    "df = pd.read_csv('tweet_product_company.csv', engine = 'python')"
   ]
  },
  {
   "cell_type": "markdown",
   "metadata": {},
   "source": [
    "## Data Understanding"
   ]
  },
  {
   "cell_type": "code",
   "execution_count": 307,
   "metadata": {},
   "outputs": [
    {
     "data": {
      "text/plain": [
       "(9093, 3)"
      ]
     },
     "execution_count": 307,
     "metadata": {},
     "output_type": "execute_result"
    }
   ],
   "source": [
    "df.shape"
   ]
  },
  {
   "cell_type": "code",
   "execution_count": 10,
   "metadata": {},
   "outputs": [
    {
     "data": {
      "text/html": [
       "<div>\n",
       "<style scoped>\n",
       "    .dataframe tbody tr th:only-of-type {\n",
       "        vertical-align: middle;\n",
       "    }\n",
       "\n",
       "    .dataframe tbody tr th {\n",
       "        vertical-align: top;\n",
       "    }\n",
       "\n",
       "    .dataframe thead th {\n",
       "        text-align: right;\n",
       "    }\n",
       "</style>\n",
       "<table border=\"1\" class=\"dataframe\">\n",
       "  <thead>\n",
       "    <tr style=\"text-align: right;\">\n",
       "      <th></th>\n",
       "      <th>text</th>\n",
       "      <th>product</th>\n",
       "      <th>emotion</th>\n",
       "    </tr>\n",
       "  </thead>\n",
       "  <tbody>\n",
       "    <tr>\n",
       "      <th>0</th>\n",
       "      <td>.@wesley83 I have a 3G iPhone. After 3 hrs twe...</td>\n",
       "      <td>iPhone</td>\n",
       "      <td>Negative emotion</td>\n",
       "    </tr>\n",
       "    <tr>\n",
       "      <th>1</th>\n",
       "      <td>@jessedee Know about @fludapp ? Awesome iPad/i...</td>\n",
       "      <td>iPad or iPhone App</td>\n",
       "      <td>Positive emotion</td>\n",
       "    </tr>\n",
       "    <tr>\n",
       "      <th>2</th>\n",
       "      <td>@swonderlin Can not wait for #iPad 2 also. The...</td>\n",
       "      <td>iPad</td>\n",
       "      <td>Positive emotion</td>\n",
       "    </tr>\n",
       "    <tr>\n",
       "      <th>3</th>\n",
       "      <td>@sxsw I hope this year's festival isn't as cra...</td>\n",
       "      <td>iPad or iPhone App</td>\n",
       "      <td>Negative emotion</td>\n",
       "    </tr>\n",
       "    <tr>\n",
       "      <th>4</th>\n",
       "      <td>@sxtxstate great stuff on Fri #SXSW: Marissa M...</td>\n",
       "      <td>Google</td>\n",
       "      <td>Positive emotion</td>\n",
       "    </tr>\n",
       "  </tbody>\n",
       "</table>\n",
       "</div>"
      ],
      "text/plain": [
       "                                                text             product  \\\n",
       "0  .@wesley83 I have a 3G iPhone. After 3 hrs twe...              iPhone   \n",
       "1  @jessedee Know about @fludapp ? Awesome iPad/i...  iPad or iPhone App   \n",
       "2  @swonderlin Can not wait for #iPad 2 also. The...                iPad   \n",
       "3  @sxsw I hope this year's festival isn't as cra...  iPad or iPhone App   \n",
       "4  @sxtxstate great stuff on Fri #SXSW: Marissa M...              Google   \n",
       "\n",
       "            emotion  \n",
       "0  Negative emotion  \n",
       "1  Positive emotion  \n",
       "2  Positive emotion  \n",
       "3  Negative emotion  \n",
       "4  Positive emotion  "
      ]
     },
     "execution_count": 10,
     "metadata": {},
     "output_type": "execute_result"
    }
   ],
   "source": [
    "df.head()"
   ]
  },
  {
   "cell_type": "code",
   "execution_count": 12,
   "metadata": {},
   "outputs": [
    {
     "name": "stdout",
     "output_type": "stream",
     "text": [
      "<class 'pandas.core.frame.DataFrame'>\n",
      "RangeIndex: 9093 entries, 0 to 9092\n",
      "Data columns (total 3 columns):\n",
      " #   Column   Non-Null Count  Dtype \n",
      "---  ------   --------------  ----- \n",
      " 0   text     9092 non-null   object\n",
      " 1   product  3291 non-null   object\n",
      " 2   emotion  9093 non-null   object\n",
      "dtypes: object(3)\n",
      "memory usage: 213.2+ KB\n"
     ]
    }
   ],
   "source": [
    "df.info()"
   ]
  },
  {
   "cell_type": "code",
   "execution_count": 16,
   "metadata": {},
   "outputs": [
    {
     "data": {
      "text/plain": [
       "iPad                               946\n",
       "Apple                              661\n",
       "iPad or iPhone App                 470\n",
       "Google                             430\n",
       "iPhone                             297\n",
       "Other Google product or service    293\n",
       "Android App                         81\n",
       "Android                             78\n",
       "Other Apple product or service      35\n",
       "Name: product, dtype: int64"
      ]
     },
     "execution_count": 16,
     "metadata": {},
     "output_type": "execute_result"
    }
   ],
   "source": [
    "df['product'].value_counts()"
   ]
  },
  {
   "cell_type": "code",
   "execution_count": 17,
   "metadata": {},
   "outputs": [
    {
     "data": {
      "text/plain": [
       "No emotion toward brand or product    5389\n",
       "Positive emotion                      2978\n",
       "Negative emotion                       570\n",
       "I can't tell                           156\n",
       "Name: emotion, dtype: int64"
      ]
     },
     "execution_count": 17,
     "metadata": {},
     "output_type": "execute_result"
    }
   ],
   "source": [
    "df['emotion'].value_counts()"
   ]
  },
  {
   "cell_type": "code",
   "execution_count": 310,
   "metadata": {},
   "outputs": [
    {
     "data": {
      "text/plain": [
       "product                          emotion                           \n",
       "Android                          Positive emotion                       69\n",
       "                                 Negative emotion                        8\n",
       "                                 No emotion toward brand or product      1\n",
       "Android App                      Positive emotion                       72\n",
       "                                 Negative emotion                        8\n",
       "                                 No emotion toward brand or product      1\n",
       "Apple                            Positive emotion                      543\n",
       "                                 Negative emotion                       95\n",
       "                                 No emotion toward brand or product     21\n",
       "                                 I can't tell                            2\n",
       "Google                           Positive emotion                      346\n",
       "                                 Negative emotion                       68\n",
       "                                 No emotion toward brand or product     15\n",
       "                                 I can't tell                            1\n",
       "Other Apple product or service   Positive emotion                       32\n",
       "                                 Negative emotion                        2\n",
       "                                 No emotion toward brand or product      1\n",
       "Other Google product or service  Positive emotion                      236\n",
       "                                 Negative emotion                       47\n",
       "                                 No emotion toward brand or product      9\n",
       "                                 I can't tell                            1\n",
       "iPad                             Positive emotion                      793\n",
       "                                 Negative emotion                      125\n",
       "                                 No emotion toward brand or product     24\n",
       "                                 I can't tell                            4\n",
       "iPad or iPhone App               Positive emotion                      397\n",
       "                                 Negative emotion                       63\n",
       "                                 No emotion toward brand or product     10\n",
       "iPhone                           Positive emotion                      184\n",
       "                                 Negative emotion                      103\n",
       "                                 No emotion toward brand or product      9\n",
       "                                 I can't tell                            1\n",
       "Name: emotion, dtype: int64"
      ]
     },
     "execution_count": 310,
     "metadata": {},
     "output_type": "execute_result"
    }
   ],
   "source": [
    "gb = df.groupby('product')['emotion'].value_counts()\n",
    "gb"
   ]
  },
  {
   "cell_type": "code",
   "execution_count": 311,
   "metadata": {},
   "outputs": [
    {
     "data": {
      "text/plain": [
       "<AxesSubplot:title={'center':'Tweet Emotion Frequency by Product'}, xlabel='Product/Company', ylabel='Frequency'>"
      ]
     },
     "execution_count": 311,
     "metadata": {},
     "output_type": "execute_result"
    },
    {
     "data": {
      "image/png": "[encoded data removed]",
      "text/plain": [
       "<Figure size 720x504 with 1 Axes>"
      ]
     },
     "metadata": {
      "needs_background": "light"
     },
     "output_type": "display_data"
    }
   ],
   "source": [
    "gb.unstack(level=1).plot(kind='bar', \n",
    "                         figsize = (10,7), \n",
    "                         fontsize = 13, \n",
    "                         rot = 75,\n",
    "                         ylabel = 'Frequency',\n",
    "                         xlabel = 'Product/Company',\n",
    "                         title = 'Tweet Emotion Frequency by Product',\n",
    "                         colormap = 'Set2'\n",
    "                        )"
   ]
  },
  {
   "cell_type": "markdown",
   "metadata": {},
   "source": [
    "## Data Cleaning"
   ]
  },
  {
   "cell_type": "code",
   "execution_count": 313,
   "metadata": {},
   "outputs": [],
   "source": [
    "df.rename(columns = {'tweet_text': 'text', 'emotion_in_tweet_is_directed_at': 'product', \n",
    "                     'is_there_an_emotion_directed_at_a_brand_or_product':'emotion'}, inplace = True)"
   ]
  },
  {
   "cell_type": "code",
   "execution_count": 314,
   "metadata": {},
   "outputs": [],
   "source": [
    "# Dropping rows with 'I can't tell' as emotion\n",
    "\n",
    "# df = df[df['emotion'] != \"I can't tell\"]\n",
    "# df['emotion'] = np.where(df['emotion'] == \"I can't tell\", 'No emotion toward brand or product', df['emotion'])"
   ]
  },
  {
   "cell_type": "code",
   "execution_count": 315,
   "metadata": {},
   "outputs": [],
   "source": [
    "# Converting 'text' column to str dtype\n",
    "\n",
    "df['text'] = df['text'].astype(str)"
   ]
  },
  {
   "cell_type": "code",
   "execution_count": 316,
   "metadata": {},
   "outputs": [],
   "source": [
    "# Tokenize\n",
    "\n",
    "pattern = \"([a-zA-Z]+(?:'[a-z]+)?)\"\n",
    "\n",
    "df['tokens'] = df['text'].apply(lambda x: nltk.regexp_tokenize(x, pattern))"
   ]
  },
  {
   "cell_type": "code",
   "execution_count": 317,
   "metadata": {},
   "outputs": [],
   "source": [
    "# Make sure tokens are lowercase\n",
    "\n",
    "df['tokens'] = df['tokens'].apply(lambda x: [i.lower() for i in x])"
   ]
  },
  {
   "cell_type": "code",
   "execution_count": 318,
   "metadata": {},
   "outputs": [],
   "source": [
    "# Create Stopwords list\n",
    "\n",
    "stopwords_list = stopwords.words('english')\n",
    "stopwords_list += list(string.punctuation)\n",
    "stopwords_list += list(range(0,10))   "
   ]
  },
  {
   "cell_type": "code",
   "execution_count": 319,
   "metadata": {},
   "outputs": [],
   "source": [
    "# Filter for stopwords\n",
    "\n",
    "df['tokens'] = df['tokens'].apply(lambda x: [i for i in x if i not in stopwords_list ])"
   ]
  },
  {
   "cell_type": "code",
   "execution_count": null,
   "metadata": {},
   "outputs": [],
   "source": []
  },
  {
   "cell_type": "code",
   "execution_count": null,
   "metadata": {},
   "outputs": [],
   "source": []
  },
  {
   "cell_type": "code",
   "execution_count": null,
   "metadata": {},
   "outputs": [],
   "source": []
  },
  {
   "cell_type": "markdown",
   "metadata": {},
   "source": [
    "## Feature Engineering"
   ]
  },
  {
   "cell_type": "code",
   "execution_count": null,
   "metadata": {},
   "outputs": [],
   "source": [
    "# Create new column indicating whether tweet is about apple or google\n",
    "\n",
    "df['split_products'] = df['product'].apply(lambda x: x.split(' ') if type(x) != float else ['nan'])\n",
    "\n",
    "ag_list = []\n",
    "for i in range(len(df['split_products'])):\n",
    "    if any(x in ['Google', 'Android'] for x in df['split_products'][i]):\n",
    "        ag_list.append('google')\n",
    "    elif any(x in ['Apple', 'iPad', 'iPhone'] for x in df['split_products'][i]):\n",
    "        ag_list.append('apple')\n",
    "    else:\n",
    "        ag_list.append('neither')\n",
    "ag_list\n",
    "df['a_or_g'] = ag_list"
   ]
  },
  {
   "cell_type": "code",
   "execution_count": 142,
   "metadata": {
    "collapsed": true
   },
   "outputs": [
    {
     "data": {
      "text/plain": [
       "a_or_g   emotion                           \n",
       "apple    Positive emotion                      1949\n",
       "         Negative emotion                       388\n",
       "         No emotion toward brand or product      65\n",
       "         I can't tell                             7\n",
       "google   Positive emotion                       723\n",
       "         Negative emotion                       131\n",
       "         No emotion toward brand or product      26\n",
       "         I can't tell                             2\n",
       "neither  No emotion toward brand or product    5298\n",
       "         Positive emotion                       306\n",
       "         I can't tell                           147\n",
       "         Negative emotion                        51\n",
       "Name: emotion, dtype: int64"
      ]
     },
     "execution_count": 142,
     "metadata": {},
     "output_type": "execute_result"
    }
   ],
   "source": [
    "ag_gb = df.groupby('a_or_g')['emotion'].value_counts()\n",
    "ag_gb"
   ]
  },
  {
   "cell_type": "code",
   "execution_count": 320,
   "metadata": {},
   "outputs": [],
   "source": [
    "# Create new column indicating whether tweet is about apple or google\n",
    "# Column sourced from tokens column. Original 'product' column unreliable\n",
    "\n",
    "ag_list2 = []\n",
    "for i in range(len(df['tokens'])):\n",
    "    if any(x in ['google', 'android'] for x in df['tokens'][i]):\n",
    "        ag_list2.append('google')\n",
    "    elif any(x in ['apple', 'ipad', 'iphone'] for x in df['tokens'][i]):\n",
    "        ag_list2.append('apple')\n",
    "    else:\n",
    "        ag_list2.append('neither')\n",
    "ag_list2\n",
    "df['a_or_g2'] = ag_list2"
   ]
  },
  {
   "cell_type": "code",
   "execution_count": 321,
   "metadata": {},
   "outputs": [
    {
     "data": {
      "text/plain": [
       "a_or_g2  emotion                           \n",
       "apple    No emotion toward brand or product    2689\n",
       "         Positive emotion                      2038\n",
       "         Negative emotion                       401\n",
       "         I can't tell                            92\n",
       "google   No emotion toward brand or product    1815\n",
       "         Positive emotion                       828\n",
       "         Negative emotion                       156\n",
       "         I can't tell                            53\n",
       "neither  No emotion toward brand or product     885\n",
       "         Positive emotion                       112\n",
       "         Negative emotion                        13\n",
       "         I can't tell                            11\n",
       "Name: emotion, dtype: int64"
      ]
     },
     "execution_count": 321,
     "metadata": {},
     "output_type": "execute_result"
    }
   ],
   "source": [
    "ag_gb = df.groupby('a_or_g2')['emotion'].value_counts()\n",
    "ag_gb"
   ]
  },
  {
   "cell_type": "code",
   "execution_count": 94,
   "metadata": {},
   "outputs": [
    {
     "data": {
      "text/plain": [
       "neither    5802\n",
       "apple      2409\n",
       "google      882\n",
       "Name: a_or_g, dtype: int64"
      ]
     },
     "execution_count": 94,
     "metadata": {},
     "output_type": "execute_result"
    }
   ],
   "source": [
    "df['a_or_g'].value_counts()"
   ]
  },
  {
   "cell_type": "code",
   "execution_count": 100,
   "metadata": {},
   "outputs": [
    {
     "data": {
      "text/plain": [
       "apple      5220\n",
       "google     2852\n",
       "neither    1021\n",
       "Name: a_or_g2, dtype: int64"
      ]
     },
     "execution_count": 100,
     "metadata": {},
     "output_type": "execute_result"
    }
   ],
   "source": [
    "df['a_or_g2'].value_counts()"
   ]
  },
  {
   "cell_type": "code",
   "execution_count": 325,
   "metadata": {},
   "outputs": [],
   "source": [
    "df['tokens_linked']=[\" \".join(token) for token in df['tokens'].values]"
   ]
  },
  {
   "cell_type": "code",
   "execution_count": 326,
   "metadata": {},
   "outputs": [],
   "source": [
    "df['raw_text_len'] = df['text'].apply(len)"
   ]
  },
  {
   "cell_type": "code",
   "execution_count": 327,
   "metadata": {},
   "outputs": [],
   "source": [
    "df['tokens_linked_len'] = df['tokens_linked'].apply(len)"
   ]
  },
  {
   "cell_type": "code",
   "execution_count": 328,
   "metadata": {},
   "outputs": [],
   "source": [
    "df['tokens_list_len'] = df['tokens'].apply(len)"
   ]
  },
  {
   "cell_type": "code",
   "execution_count": null,
   "metadata": {},
   "outputs": [],
   "source": []
  },
  {
   "cell_type": "code",
   "execution_count": null,
   "metadata": {},
   "outputs": [],
   "source": []
  },
  {
   "cell_type": "code",
   "execution_count": null,
   "metadata": {},
   "outputs": [],
   "source": []
  },
  {
   "cell_type": "code",
   "execution_count": null,
   "metadata": {},
   "outputs": [],
   "source": [
    "bigram_measures = nltk.collocations.BigramAssocMeasures()\n",
    "#"
   ]
  },
  {
   "cell_type": "code",
   "execution_count": null,
   "metadata": {},
   "outputs": [],
   "source": []
  },
  {
   "cell_type": "markdown",
   "metadata": {},
   "source": [
    "## EDA 2"
   ]
  },
  {
   "cell_type": "code",
   "execution_count": 329,
   "metadata": {},
   "outputs": [
    {
     "data": {
      "text/plain": [
       "<AxesSubplot:title={'center':'Tweet Emotion Frequency by Company'}, xlabel='Company', ylabel='Frequency'>"
      ]
     },
     "execution_count": 329,
     "metadata": {},
     "output_type": "execute_result"
    },
    {
     "data": {
      "image/png": "[encoded data removed]",
      "text/plain": [
       "<Figure size 720x504 with 1 Axes>"
      ]
     },
     "metadata": {
      "needs_background": "light"
     },
     "output_type": "display_data"
    }
   ],
   "source": [
    "ag_gb.unstack(level = 1).plot(kind = 'bar',\n",
    "                             figsize = (10,7), \n",
    "                             fontsize = 13, \n",
    "                             rot = 75,\n",
    "                             ylabel = 'Frequency',\n",
    "                             xlabel = 'Company',\n",
    "                             title = 'Tweet Emotion Frequency by Company',\n",
    "                             colormap = 'Set2'\n",
    "                             )"
   ]
  },
  {
   "cell_type": "code",
   "execution_count": 330,
   "metadata": {},
   "outputs": [
    {
     "data": {
      "text/plain": [
       "[Text(0.5, 0, 'Company'),\n",
       " Text(0, 0.5, 'Relative Frequency'),\n",
       " Text(0.5, 1.0, 'Company Mention in Tweet Frequency')]"
      ]
     },
     "execution_count": 330,
     "metadata": {},
     "output_type": "execute_result"
    },
    {
     "data": {
      "image/png": "[encoded data removed]",
      "text/plain": [
       "<Figure size 432x288 with 1 Axes>"
      ]
     },
     "metadata": {
      "needs_background": "light"
     },
     "output_type": "display_data"
    }
   ],
   "source": [
    "c_freq = sns.barplot(x = df['a_or_g2'].value_counts(normalize = True).index, \n",
    "                    y = df['a_or_g2'].value_counts(normalize = True).values,\n",
    "                    order = ['apple', 'google', 'neither'],\n",
    "                    palette = 'Set2'\n",
    "                    )\n",
    "c_freq.set(xlabel = 'Company', \n",
    "           ylabel = 'Relative Frequency',\n",
    "           title = 'Company Mention in Tweet Frequency'\n",
    "          )"
   ]
  },
  {
   "cell_type": "code",
   "execution_count": 331,
   "metadata": {},
   "outputs": [
    {
     "data": {
      "text/plain": [
       "104.95106125591114"
      ]
     },
     "execution_count": 331,
     "metadata": {},
     "output_type": "execute_result"
    }
   ],
   "source": [
    "mean_raw_text_len = df['raw_text_len'].mean()\n",
    "mean_raw_text_len"
   ]
  },
  {
   "cell_type": "code",
   "execution_count": 332,
   "metadata": {},
   "outputs": [
    {
     "data": {
      "text/plain": [
       "76.76641372484329"
      ]
     },
     "execution_count": 332,
     "metadata": {},
     "output_type": "execute_result"
    }
   ],
   "source": [
    "mean_tokens_linked_len = df['tokens_linked_len'].mean()\n",
    "mean_tokens_linked_len"
   ]
  },
  {
   "cell_type": "code",
   "execution_count": 333,
   "metadata": {},
   "outputs": [
    {
     "data": {
      "text/plain": [
       "12.319146596282854"
      ]
     },
     "execution_count": 333,
     "metadata": {},
     "output_type": "execute_result"
    }
   ],
   "source": [
    "mean_tokens_list_len = df['tokens_list_len'].mean()\n",
    "mean_tokens_list_len"
   ]
  },
  {
   "cell_type": "code",
   "execution_count": 334,
   "metadata": {},
   "outputs": [
    {
     "data": {
      "text/plain": [
       "<matplotlib.legend.Legend at 0x28bd0bb6640>"
      ]
     },
     "execution_count": 334,
     "metadata": {},
     "output_type": "execute_result"
    },
    {
     "data": {
      "image/png": "[encoded data removed]",
      "text/plain": [
       "<Figure size 648x432 with 1 Axes>"
      ]
     },
     "metadata": {
      "needs_background": "light"
     },
     "output_type": "display_data"
    }
   ],
   "source": [
    "fig, ax = plt.subplots(figsize = (9,6))\n",
    "sns.kdeplot(df['raw_text_len'], ax = ax, label = 'Raw Text Length', shade = True, color = 'grey')\n",
    "sns.kdeplot(df['tokens_linked_len'], ax = ax, label = 'Tokens-Linked Length', shade = True, color = 'green')\n",
    "ax.set(xlabel = 'Text Length (Characters)', title = 'Text Length Density')\n",
    "ax.axvline(x = mean_raw_text_len, ymax = .87, color = 'grey')\n",
    "ax.axvline(x = mean_tokens_linked_len, ymax = .95, color = 'green')\n",
    "ax.text(x = mean_raw_text_len, y = -.0008, s = str(mean_raw_text_len.round(1)))\n",
    "ax.text(x = mean_tokens_linked_len+1, y = -.0008, s = str(mean_tokens_linked_len.round(1)))\n",
    "ax.legend()"
   ]
  },
  {
   "cell_type": "code",
   "execution_count": 335,
   "metadata": {},
   "outputs": [
    {
     "data": {
      "text/plain": [
       "<matplotlib.legend.Legend at 0x28bd0e3a0d0>"
      ]
     },
     "execution_count": 335,
     "metadata": {},
     "output_type": "execute_result"
    },
    {
     "data": {
      "image/png": "[encoded data removed]",
      "text/plain": [
       "<Figure size 648x432 with 1 Axes>"
      ]
     },
     "metadata": {
      "needs_background": "light"
     },
     "output_type": "display_data"
    }
   ],
   "source": [
    "fig, ax = plt.subplots(figsize = (9,6))\n",
    "sns.kdeplot(df['tokens_list_len'], ax = ax, label = 'Length of Tokens List', shade = True, color = 'navy')\n",
    "ax.set(xlabel = 'Token List Length (Tokens)', title = 'Token List Length Density')\n",
    "ax.axvline(x = mean_tokens_list_len, ymax = .95, color = 'navy')\n",
    "ax.text(x = mean_tokens_list_len, y = -.005, s = str(mean_tokens_list_len.round(1)))\n",
    "ax.legend()"
   ]
  },
  {
   "cell_type": "code",
   "execution_count": 336,
   "metadata": {},
   "outputs": [
    {
     "data": {
      "text/plain": [
       "emotion\n",
       "I can't tell                          103.980769\n",
       "Negative emotion                      109.447368\n",
       "No emotion toward brand or product    104.167749\n",
       "Positive emotion                      105.558764\n",
       "Name: raw_text_len, dtype: float64"
      ]
     },
     "execution_count": 336,
     "metadata": {},
     "output_type": "execute_result"
    }
   ],
   "source": [
    "raw_text_gb = df.groupby('emotion')['raw_text_len'].mean()\n",
    "raw_text_gb"
   ]
  },
  {
   "cell_type": "code",
   "execution_count": 337,
   "metadata": {},
   "outputs": [
    {
     "data": {
      "text/plain": [
       "emotion\n",
       "I can't tell                          75.391026\n",
       "Negative emotion                      78.075439\n",
       "No emotion toward brand or product    76.827426\n",
       "Positive emotion                      76.477502\n",
       "Name: tokens_linked_len, dtype: float64"
      ]
     },
     "execution_count": 337,
     "metadata": {},
     "output_type": "execute_result"
    }
   ],
   "source": [
    "tok_linked_gb = df.groupby('emotion')['tokens_linked_len'].mean()\n",
    "tok_linked_gb"
   ]
  },
  {
   "cell_type": "code",
   "execution_count": 338,
   "metadata": {},
   "outputs": [
    {
     "data": {
      "text/plain": [
       "emotion\n",
       "I can't tell                          11.955128\n",
       "Negative emotion                      12.343860\n",
       "No emotion toward brand or product    12.291149\n",
       "Positive emotion                      12.384150\n",
       "Name: tokens_list_len, dtype: float64"
      ]
     },
     "execution_count": 338,
     "metadata": {},
     "output_type": "execute_result"
    }
   ],
   "source": [
    "tok_list_gb = df.groupby('emotion')['tokens_list_len'].mean()\n",
    "tok_list_gb"
   ]
  },
  {
   "cell_type": "code",
   "execution_count": 423,
   "metadata": {},
   "outputs": [
    {
     "data": {
      "image/png": "[encoded data removed]",
      "text/plain": [
       "<Figure size 576x576 with 3 Axes>"
      ]
     },
     "metadata": {
      "needs_background": "light"
     },
     "output_type": "display_data"
    }
   ],
   "source": [
    "fig, axes = plt.subplots(figsize = (8, 8), nrows= 3, sharex = True, sharey = False)\n",
    "# fig.subplots_adjust( wspace=0.3)\n",
    "fig.suptitle('Mean Length of Text by Emotion')\n",
    "fig.text(0.06, 0.5, 'Length', ha='center', va='center', rotation='vertical')\n",
    "\n",
    "ax1 = axes[0]\n",
    "ax2 = axes[1]\n",
    "ax3 = axes[2]\n",
    "\n",
    "\n",
    "sns.barplot(x = raw_text_gb.keys(), y = raw_text_gb.values, ax = ax1, palette = 'Set2')\n",
    "sns.barplot(x = tok_linked_gb.keys(), y = tok_linked_gb.values, ax = ax2, palette = 'Set2')\n",
    "sns.barplot(x = tok_list_gb.keys(), y = tok_list_gb.values, ax = ax3, palette = 'Set2')\n",
    "\n",
    "ax1.title.set_text('Raw Text (Length Measured in Characters)')\n",
    "ax2.title.set_text('Linked Tokens (Length Measured in Characters)')\n",
    "ax3.title.set_text('List of Tokens (Length Measured in Number of Tokens)')\n",
    "\n",
    "ax3.set_xticklabels([\"I can't tell\", 'Negative', 'No Emotion', 'Positive'])\n",
    "\n",
    "plt.xlabel('Emotion')\n",
    "\n",
    "ax1.label_outer()\n",
    "ax2.label_outer()"
   ]
  },
  {
   "cell_type": "code",
   "execution_count": null,
   "metadata": {},
   "outputs": [],
   "source": []
  },
  {
   "cell_type": "code",
   "execution_count": null,
   "metadata": {},
   "outputs": [],
   "source": []
  },
  {
   "cell_type": "code",
   "execution_count": null,
   "metadata": {},
   "outputs": [],
   "source": []
  },
  {
   "cell_type": "code",
   "execution_count": null,
   "metadata": {},
   "outputs": [],
   "source": []
  },
  {
   "cell_type": "code",
   "execution_count": null,
   "metadata": {},
   "outputs": [],
   "source": []
  },
  {
   "cell_type": "code",
   "execution_count": null,
   "metadata": {},
   "outputs": [],
   "source": []
  },
  {
   "cell_type": "code",
   "execution_count": null,
   "metadata": {},
   "outputs": [],
   "source": []
  },
  {
   "cell_type": "code",
   "execution_count": null,
   "metadata": {},
   "outputs": [],
   "source": []
  },
  {
   "cell_type": "code",
   "execution_count": null,
   "metadata": {},
   "outputs": [],
   "source": []
  },
  {
   "cell_type": "code",
   "execution_count": null,
   "metadata": {},
   "outputs": [],
   "source": []
  },
  {
   "cell_type": "markdown",
   "metadata": {},
   "source": [
    "## Modeling"
   ]
  },
  {
   "cell_type": "code",
   "execution_count": 230,
   "metadata": {},
   "outputs": [
    {
     "data": {
      "text/html": [
       "<div>\n",
       "<style scoped>\n",
       "    .dataframe tbody tr th:only-of-type {\n",
       "        vertical-align: middle;\n",
       "    }\n",
       "\n",
       "    .dataframe tbody tr th {\n",
       "        vertical-align: top;\n",
       "    }\n",
       "\n",
       "    .dataframe thead th {\n",
       "        text-align: right;\n",
       "    }\n",
       "</style>\n",
       "<table border=\"1\" class=\"dataframe\">\n",
       "  <thead>\n",
       "    <tr style=\"text-align: right;\">\n",
       "      <th></th>\n",
       "      <th>text</th>\n",
       "      <th>product</th>\n",
       "      <th>emotion</th>\n",
       "      <th>a_or_g</th>\n",
       "      <th>split_products</th>\n",
       "      <th>tokens</th>\n",
       "    </tr>\n",
       "  </thead>\n",
       "  <tbody>\n",
       "    <tr>\n",
       "      <th>0</th>\n",
       "      <td>.@wesley83 I have a 3G iPhone. After 3 hrs twe...</td>\n",
       "      <td>iPhone</td>\n",
       "      <td>Negative emotion</td>\n",
       "      <td>apple</td>\n",
       "      <td>[iPhone]</td>\n",
       "      <td>[wesley, g, iphone, hrs, tweeting, rise, austi...</td>\n",
       "    </tr>\n",
       "    <tr>\n",
       "      <th>1</th>\n",
       "      <td>@jessedee Know about @fludapp ? Awesome iPad/i...</td>\n",
       "      <td>iPad or iPhone App</td>\n",
       "      <td>Positive emotion</td>\n",
       "      <td>apple</td>\n",
       "      <td>[iPad, or, iPhone, App]</td>\n",
       "      <td>[jessedee, know, fludapp, awesome, ipad, iphon...</td>\n",
       "    </tr>\n",
       "    <tr>\n",
       "      <th>2</th>\n",
       "      <td>@swonderlin Can not wait for #iPad 2 also. The...</td>\n",
       "      <td>iPad</td>\n",
       "      <td>Positive emotion</td>\n",
       "      <td>apple</td>\n",
       "      <td>[iPad]</td>\n",
       "      <td>[swonderlin, wait, ipad, also, sale, sxsw]</td>\n",
       "    </tr>\n",
       "    <tr>\n",
       "      <th>3</th>\n",
       "      <td>@sxsw I hope this year's festival isn't as cra...</td>\n",
       "      <td>iPad or iPhone App</td>\n",
       "      <td>Negative emotion</td>\n",
       "      <td>apple</td>\n",
       "      <td>[iPad, or, iPhone, App]</td>\n",
       "      <td>[sxsw, hope, year's, festival, crashy, year's,...</td>\n",
       "    </tr>\n",
       "    <tr>\n",
       "      <th>4</th>\n",
       "      <td>@sxtxstate great stuff on Fri #SXSW: Marissa M...</td>\n",
       "      <td>Google</td>\n",
       "      <td>Positive emotion</td>\n",
       "      <td>google</td>\n",
       "      <td>[Google]</td>\n",
       "      <td>[sxtxstate, great, stuff, fri, sxsw, marissa, ...</td>\n",
       "    </tr>\n",
       "  </tbody>\n",
       "</table>\n",
       "</div>"
      ],
      "text/plain": [
       "                                                text             product  \\\n",
       "0  .@wesley83 I have a 3G iPhone. After 3 hrs twe...              iPhone   \n",
       "1  @jessedee Know about @fludapp ? Awesome iPad/i...  iPad or iPhone App   \n",
       "2  @swonderlin Can not wait for #iPad 2 also. The...                iPad   \n",
       "3  @sxsw I hope this year's festival isn't as cra...  iPad or iPhone App   \n",
       "4  @sxtxstate great stuff on Fri #SXSW: Marissa M...              Google   \n",
       "\n",
       "            emotion  a_or_g           split_products  \\\n",
       "0  Negative emotion   apple                 [iPhone]   \n",
       "1  Positive emotion   apple  [iPad, or, iPhone, App]   \n",
       "2  Positive emotion   apple                   [iPad]   \n",
       "3  Negative emotion   apple  [iPad, or, iPhone, App]   \n",
       "4  Positive emotion  google                 [Google]   \n",
       "\n",
       "                                              tokens  \n",
       "0  [wesley, g, iphone, hrs, tweeting, rise, austi...  \n",
       "1  [jessedee, know, fludapp, awesome, ipad, iphon...  \n",
       "2         [swonderlin, wait, ipad, also, sale, sxsw]  \n",
       "3  [sxsw, hope, year's, festival, crashy, year's,...  \n",
       "4  [sxtxstate, great, stuff, fri, sxsw, marissa, ...  "
      ]
     },
     "execution_count": 230,
     "metadata": {},
     "output_type": "execute_result"
    }
   ],
   "source": [
    "df.head()"
   ]
  },
  {
   "cell_type": "code",
   "execution_count": 123,
   "metadata": {},
   "outputs": [],
   "source": [
    "data = df['tokens_linked']\n",
    "target = df['emotion']"
   ]
  },
  {
   "cell_type": "code",
   "execution_count": 169,
   "metadata": {},
   "outputs": [],
   "source": [
    "X_train, X_test, y_train, y_test = train_test_split(data, target, random_state = 0)"
   ]
  },
  {
   "cell_type": "code",
   "execution_count": 241,
   "metadata": {},
   "outputs": [],
   "source": [
    "total_vocab = set()\n",
    "for i in data:\n",
    "    total_vocab.update(i)"
   ]
  },
  {
   "cell_type": "code",
   "execution_count": 57,
   "metadata": {},
   "outputs": [],
   "source": [
    "vectorizer = TfidfVectorizer()\n",
    "tf_idf_data_train = vectorizer.fit_transform(X_train)\n",
    "tf_idf_data_test = vectorizer.transform(X_test)"
   ]
  },
  {
   "cell_type": "code",
   "execution_count": 155,
   "metadata": {},
   "outputs": [],
   "source": [
    "tf_idf_data = vectorizer.fit_transform(data)"
   ]
  },
  {
   "cell_type": "markdown",
   "metadata": {},
   "source": [
    "### Naive-Bayes"
   ]
  },
  {
   "cell_type": "code",
   "execution_count": 60,
   "metadata": {},
   "outputs": [],
   "source": [
    "nb = MultinomialNB()"
   ]
  },
  {
   "cell_type": "code",
   "execution_count": 61,
   "metadata": {},
   "outputs": [
    {
     "data": {
      "text/plain": [
       "MultinomialNB()"
      ]
     },
     "execution_count": 61,
     "metadata": {},
     "output_type": "execute_result"
    }
   ],
   "source": [
    "nb.fit(tf_idf_data_train, y_train)"
   ]
  },
  {
   "cell_type": "code",
   "execution_count": 62,
   "metadata": {},
   "outputs": [],
   "source": [
    "nb_train_pred = nb.predict(tf_idf_data_train)\n",
    "nb_test_pred = nb.predict(tf_idf_data_test)"
   ]
  },
  {
   "cell_type": "markdown",
   "metadata": {},
   "source": [
    "### Support Vector Machine"
   ]
  },
  {
   "cell_type": "code",
   "execution_count": 70,
   "metadata": {},
   "outputs": [],
   "source": [
    "svm = SVC()"
   ]
  },
  {
   "cell_type": "code",
   "execution_count": 71,
   "metadata": {},
   "outputs": [
    {
     "data": {
      "text/plain": [
       "SVC(degree=10)"
      ]
     },
     "execution_count": 71,
     "metadata": {},
     "output_type": "execute_result"
    }
   ],
   "source": [
    "svm.fit(tf_idf_data_train, y_train)"
   ]
  },
  {
   "cell_type": "code",
   "execution_count": 72,
   "metadata": {},
   "outputs": [],
   "source": [
    "svm_train_pred = svm.predict(tf_idf_data_train)\n",
    "svm_test_pred = svm.predict(tf_idf_data_test)"
   ]
  },
  {
   "cell_type": "markdown",
   "metadata": {},
   "source": [
    "### Random Forest"
   ]
  },
  {
   "cell_type": "code",
   "execution_count": 88,
   "metadata": {},
   "outputs": [],
   "source": [
    "rfc = RandomForestClassifier(n_estimators = 500, class_weight = 'balanced')"
   ]
  },
  {
   "cell_type": "code",
   "execution_count": 89,
   "metadata": {},
   "outputs": [
    {
     "data": {
      "text/plain": [
       "RandomForestClassifier(class_weight='balanced', n_estimators=500)"
      ]
     },
     "execution_count": 89,
     "metadata": {},
     "output_type": "execute_result"
    }
   ],
   "source": [
    "rfc.fit(tf_idf_data_train, y_train)"
   ]
  },
  {
   "cell_type": "code",
   "execution_count": 90,
   "metadata": {},
   "outputs": [],
   "source": [
    "rfc_train_pred = rfc.predict(tf_idf_data_train)\n",
    "rfc_test_pred = rfc.predict(tf_idf_data_test)"
   ]
  },
  {
   "cell_type": "markdown",
   "metadata": {},
   "source": [
    "## Ensemble"
   ]
  },
  {
   "cell_type": "code",
   "execution_count": 133,
   "metadata": {},
   "outputs": [],
   "source": [
    "ensemble = VotingClassifier(estimators = [('mnb', nb), ('svm', svm), ('rfc', rfc)],\n",
    "                            voting = 'hard',\n",
    "                            n_jobs = -1,\n",
    "                            verbose = True\n",
    "                           )"
   ]
  },
  {
   "cell_type": "code",
   "execution_count": 134,
   "metadata": {},
   "outputs": [
    {
     "data": {
      "text/plain": [
       "VotingClassifier(estimators=[('mnb', MultinomialNB()), ('svm', SVC(degree=10)),\n",
       "                             ('rfc',\n",
       "                              RandomForestClassifier(class_weight='balanced',\n",
       "                                                     n_estimators=500))],\n",
       "                 n_jobs=-1, verbose=True)"
      ]
     },
     "execution_count": 134,
     "metadata": {},
     "output_type": "execute_result"
    }
   ],
   "source": [
    "ensemble.fit(tf_idf_data_train, y_train)"
   ]
  },
  {
   "cell_type": "code",
   "execution_count": 135,
   "metadata": {},
   "outputs": [],
   "source": [
    "ensemble_train_pred = ensemble.predict(tf_idf_data_train)\n",
    "ensemble_test_pred = ensemble.predict(tf_idf_data_test)"
   ]
  },
  {
   "cell_type": "code",
   "execution_count": 156,
   "metadata": {},
   "outputs": [
    {
     "name": "stderr",
     "output_type": "stream",
     "text": [
      "[Parallel(n_jobs=-1)]: Using backend LokyBackend with 8 concurrent workers.\n",
      "[Parallel(n_jobs=-1)]: Done   2 out of   5 | elapsed:  1.2min remaining:  1.8min\n",
      "[Parallel(n_jobs=-1)]: Done   5 out of   5 | elapsed:  1.3min finished\n"
     ]
    }
   ],
   "source": [
    "cv = cross_validate(estimator = ensemble, \n",
    "                    X = tf_idf_data, \n",
    "                    y = target,\n",
    "                    scoring = 'f1_weighted',\n",
    "                    n_jobs = -1,\n",
    "                    verbose = True\n",
    "                   )"
   ]
  },
  {
   "cell_type": "markdown",
   "metadata": {},
   "source": [
    "## Model Evalutation"
   ]
  },
  {
   "cell_type": "code",
   "execution_count": 65,
   "metadata": {},
   "outputs": [
    {
     "name": "stdout",
     "output_type": "stream",
     "text": [
      "NB train 0.7416043408124359\n",
      "NB test 0.6341248900615655\n"
     ]
    }
   ],
   "source": [
    "print('NB train', accuracy_score(y_train, nb_train_pred))\n",
    "print('NB test', accuracy_score(y_test, nb_test_pred))"
   ]
  },
  {
   "cell_type": "code",
   "execution_count": 82,
   "metadata": {},
   "outputs": [
    {
     "name": "stdout",
     "output_type": "stream",
     "text": [
      "SVM train 0.8926528816542015\n",
      "SVM test 0.6666666666666666\n"
     ]
    }
   ],
   "source": [
    "print('SVM train', accuracy_score(y_train, svm_train_pred))\n",
    "print('SVM test', accuracy_score(y_test, svm_test_pred))"
   ]
  },
  {
   "cell_type": "code",
   "execution_count": 91,
   "metadata": {},
   "outputs": [
    {
     "name": "stdout",
     "output_type": "stream",
     "text": [
      "RFC train 0.9941340372488635\n",
      "RFC test 0.6451187335092349\n"
     ]
    }
   ],
   "source": [
    "print('RFC train', accuracy_score(y_train, rfc_train_pred))\n",
    "print('RFC test', accuracy_score(y_test, rfc_test_pred))"
   ]
  },
  {
   "cell_type": "code",
   "execution_count": 168,
   "metadata": {},
   "outputs": [
    {
     "name": "stdout",
     "output_type": "stream",
     "text": [
      "Ensemble train F1 0.8948833420228234\n",
      "Ensemble test F1 0.6184921072581573\n"
     ]
    }
   ],
   "source": [
    "print('Ensemble train F1', f1_score(y_train, ensemble_train_pred, average = 'weighted'))\n",
    "print('Ensemble test F1', f1_score(y_test, ensemble_test_pred, average = 'weighted'))"
   ]
  },
  {
   "cell_type": "code",
   "execution_count": 162,
   "metadata": {},
   "outputs": [
    {
     "name": "stdout",
     "output_type": "stream",
     "text": [
      "Cross Validation F1 score: 0.6334824699516154\n"
     ]
    }
   ],
   "source": [
    "print('Cross Validation F1 score:',cv['test_score'].mean())"
   ]
  },
  {
   "cell_type": "code",
   "execution_count": null,
   "metadata": {},
   "outputs": [],
   "source": []
  }
 ],
 "metadata": {
  "kernelspec": {
   "display_name": "learn-env",
   "language": "python",
   "name": "learn-env"
  },
  "language_info": {
   "codemirror_mode": {
    "name": "ipython",
    "version": 3
   },
   "file_extension": ".py",
   "mimetype": "text/x-python",
   "name": "python",
   "nbconvert_exporter": "python",
   "pygments_lexer": "ipython3",
   "version": "3.8.5"
  }
 },
 "nbformat": 4,
 "nbformat_minor": 4
}
