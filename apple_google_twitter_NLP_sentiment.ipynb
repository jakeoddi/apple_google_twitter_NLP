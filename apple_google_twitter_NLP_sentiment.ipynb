{
 "cells": [
  {
   "cell_type": "markdown",
   "metadata": {},
   "source": [
    "# Sentiment Classification on Tweets About Apple and Google Products"
   ]
  },
  {
   "cell_type": "markdown",
   "metadata": {},
   "source": [
    "#### By Jake Oddi"
   ]
  },
  {
   "cell_type": "code",
   "execution_count": null,
   "metadata": {},
   "outputs": [],
   "source": []
  },
  {
   "cell_type": "code",
   "execution_count": null,
   "metadata": {},
   "outputs": [],
   "source": []
  },
  {
   "cell_type": "code",
   "execution_count": null,
   "metadata": {},
   "outputs": [],
   "source": []
  },
  {
   "cell_type": "code",
   "execution_count": null,
   "metadata": {},
   "outputs": [],
   "source": []
  },
  {
   "cell_type": "code",
   "execution_count": null,
   "metadata": {},
   "outputs": [],
   "source": []
  },
  {
   "cell_type": "code",
   "execution_count": null,
   "metadata": {},
   "outputs": [],
   "source": []
  },
  {
   "cell_type": "code",
   "execution_count": 183,
   "metadata": {},
   "outputs": [],
   "source": [
    "import pandas as pd\n",
    "import numpy as np\n",
    "import matplotlib.pyplot as plt\n",
    "%matplotlib inline\n",
    "import seaborn as sns"
   ]
  },
  {
   "cell_type": "code",
   "execution_count": 59,
   "metadata": {},
   "outputs": [],
   "source": [
    "import nltk\n",
    "from nltk.corpus import stopwords\n",
    "from nltk.collections import *\n",
    "from nltk import FreqDist, word_tokenize\n",
    "from sklearn.feature_extraction.text import TfidfVectorizer\n",
    "from sklearn.metrics import accuracy_score, precision_score, recall_score, f1_score\n",
    "from sklearn.ensemble import RandomForestClassifier\n",
    "from sklearn.naive_bayes import MultinomialNB\n",
    "from sklearn.svm import SVC\n",
    "from sklearn.model_selection import train_test_split\n",
    "import string\n",
    "import re"
   ]
  },
  {
   "cell_type": "code",
   "execution_count": 210,
   "metadata": {},
   "outputs": [
    {
     "name": "stderr",
     "output_type": "stream",
     "text": [
      "[nltk_data] Downloading package stopwords to\n",
      "[nltk_data]     C:\\Users\\David\\AppData\\Roaming\\nltk_data...\n",
      "[nltk_data]   Unzipping corpora\\stopwords.zip.\n"
     ]
    },
    {
     "data": {
      "text/plain": [
       "True"
      ]
     },
     "execution_count": 210,
     "metadata": {},
     "output_type": "execute_result"
    }
   ],
   "source": [
    "# nltk.download('stopwords')"
   ]
  },
  {
   "cell_type": "code",
   "execution_count": 4,
   "metadata": {},
   "outputs": [],
   "source": [
    "df = pd.read_csv('tweet_product_company.csv', engine = 'python')"
   ]
  },
  {
   "cell_type": "markdown",
   "metadata": {},
   "source": [
    "## Data Understanding"
   ]
  },
  {
   "cell_type": "code",
   "execution_count": 228,
   "metadata": {},
   "outputs": [
    {
     "data": {
      "text/plain": [
       "(9093, 6)"
      ]
     },
     "execution_count": 228,
     "metadata": {},
     "output_type": "execute_result"
    }
   ],
   "source": [
    "df.shape"
   ]
  },
  {
   "cell_type": "code",
   "execution_count": 10,
   "metadata": {},
   "outputs": [
    {
     "data": {
      "text/html": [
       "<div>\n",
       "<style scoped>\n",
       "    .dataframe tbody tr th:only-of-type {\n",
       "        vertical-align: middle;\n",
       "    }\n",
       "\n",
       "    .dataframe tbody tr th {\n",
       "        vertical-align: top;\n",
       "    }\n",
       "\n",
       "    .dataframe thead th {\n",
       "        text-align: right;\n",
       "    }\n",
       "</style>\n",
       "<table border=\"1\" class=\"dataframe\">\n",
       "  <thead>\n",
       "    <tr style=\"text-align: right;\">\n",
       "      <th></th>\n",
       "      <th>text</th>\n",
       "      <th>product</th>\n",
       "      <th>emotion</th>\n",
       "    </tr>\n",
       "  </thead>\n",
       "  <tbody>\n",
       "    <tr>\n",
       "      <th>0</th>\n",
       "      <td>.@wesley83 I have a 3G iPhone. After 3 hrs twe...</td>\n",
       "      <td>iPhone</td>\n",
       "      <td>Negative emotion</td>\n",
       "    </tr>\n",
       "    <tr>\n",
       "      <th>1</th>\n",
       "      <td>@jessedee Know about @fludapp ? Awesome iPad/i...</td>\n",
       "      <td>iPad or iPhone App</td>\n",
       "      <td>Positive emotion</td>\n",
       "    </tr>\n",
       "    <tr>\n",
       "      <th>2</th>\n",
       "      <td>@swonderlin Can not wait for #iPad 2 also. The...</td>\n",
       "      <td>iPad</td>\n",
       "      <td>Positive emotion</td>\n",
       "    </tr>\n",
       "    <tr>\n",
       "      <th>3</th>\n",
       "      <td>@sxsw I hope this year's festival isn't as cra...</td>\n",
       "      <td>iPad or iPhone App</td>\n",
       "      <td>Negative emotion</td>\n",
       "    </tr>\n",
       "    <tr>\n",
       "      <th>4</th>\n",
       "      <td>@sxtxstate great stuff on Fri #SXSW: Marissa M...</td>\n",
       "      <td>Google</td>\n",
       "      <td>Positive emotion</td>\n",
       "    </tr>\n",
       "  </tbody>\n",
       "</table>\n",
       "</div>"
      ],
      "text/plain": [
       "                                                text             product  \\\n",
       "0  .@wesley83 I have a 3G iPhone. After 3 hrs twe...              iPhone   \n",
       "1  @jessedee Know about @fludapp ? Awesome iPad/i...  iPad or iPhone App   \n",
       "2  @swonderlin Can not wait for #iPad 2 also. The...                iPad   \n",
       "3  @sxsw I hope this year's festival isn't as cra...  iPad or iPhone App   \n",
       "4  @sxtxstate great stuff on Fri #SXSW: Marissa M...              Google   \n",
       "\n",
       "            emotion  \n",
       "0  Negative emotion  \n",
       "1  Positive emotion  \n",
       "2  Positive emotion  \n",
       "3  Negative emotion  \n",
       "4  Positive emotion  "
      ]
     },
     "execution_count": 10,
     "metadata": {},
     "output_type": "execute_result"
    }
   ],
   "source": [
    "df.head()"
   ]
  },
  {
   "cell_type": "code",
   "execution_count": 12,
   "metadata": {},
   "outputs": [
    {
     "name": "stdout",
     "output_type": "stream",
     "text": [
      "<class 'pandas.core.frame.DataFrame'>\n",
      "RangeIndex: 9093 entries, 0 to 9092\n",
      "Data columns (total 3 columns):\n",
      " #   Column   Non-Null Count  Dtype \n",
      "---  ------   --------------  ----- \n",
      " 0   text     9092 non-null   object\n",
      " 1   product  3291 non-null   object\n",
      " 2   emotion  9093 non-null   object\n",
      "dtypes: object(3)\n",
      "memory usage: 213.2+ KB\n"
     ]
    }
   ],
   "source": [
    "df.info()"
   ]
  },
  {
   "cell_type": "code",
   "execution_count": 16,
   "metadata": {},
   "outputs": [
    {
     "data": {
      "text/plain": [
       "iPad                               946\n",
       "Apple                              661\n",
       "iPad or iPhone App                 470\n",
       "Google                             430\n",
       "iPhone                             297\n",
       "Other Google product or service    293\n",
       "Android App                         81\n",
       "Android                             78\n",
       "Other Apple product or service      35\n",
       "Name: product, dtype: int64"
      ]
     },
     "execution_count": 16,
     "metadata": {},
     "output_type": "execute_result"
    }
   ],
   "source": [
    "df['product'].value_counts()"
   ]
  },
  {
   "cell_type": "code",
   "execution_count": 17,
   "metadata": {},
   "outputs": [
    {
     "data": {
      "text/plain": [
       "No emotion toward brand or product    5389\n",
       "Positive emotion                      2978\n",
       "Negative emotion                       570\n",
       "I can't tell                           156\n",
       "Name: emotion, dtype: int64"
      ]
     },
     "execution_count": 17,
     "metadata": {},
     "output_type": "execute_result"
    }
   ],
   "source": [
    "df['emotion'].value_counts()"
   ]
  },
  {
   "cell_type": "code",
   "execution_count": 48,
   "metadata": {},
   "outputs": [
    {
     "data": {
      "text/plain": [
       "product                          emotion                           \n",
       "Android                          Positive emotion                       69\n",
       "                                 Negative emotion                        8\n",
       "                                 No emotion toward brand or product      1\n",
       "Android App                      Positive emotion                       72\n",
       "                                 Negative emotion                        8\n",
       "                                 No emotion toward brand or product      1\n",
       "Apple                            Positive emotion                      543\n",
       "                                 Negative emotion                       95\n",
       "                                 No emotion toward brand or product     21\n",
       "                                 I can't tell                            2\n",
       "Google                           Positive emotion                      346\n",
       "                                 Negative emotion                       68\n",
       "                                 No emotion toward brand or product     15\n",
       "                                 I can't tell                            1\n",
       "Other Apple product or service   Positive emotion                       32\n",
       "                                 Negative emotion                        2\n",
       "                                 No emotion toward brand or product      1\n",
       "Other Google product or service  Positive emotion                      236\n",
       "                                 Negative emotion                       47\n",
       "                                 No emotion toward brand or product      9\n",
       "                                 I can't tell                            1\n",
       "iPad                             Positive emotion                      793\n",
       "                                 Negative emotion                      125\n",
       "                                 No emotion toward brand or product     24\n",
       "                                 I can't tell                            4\n",
       "iPad or iPhone App               Positive emotion                      397\n",
       "                                 Negative emotion                       63\n",
       "                                 No emotion toward brand or product     10\n",
       "iPhone                           Positive emotion                      184\n",
       "                                 Negative emotion                      103\n",
       "                                 No emotion toward brand or product      9\n",
       "                                 I can't tell                            1\n",
       "Name: emotion, dtype: int64"
      ]
     },
     "execution_count": 48,
     "metadata": {},
     "output_type": "execute_result"
    }
   ],
   "source": [
    "gb = df.groupby('product')['emotion'].value_counts()\n",
    "gb"
   ]
  },
  {
   "cell_type": "code",
   "execution_count": 184,
   "metadata": {},
   "outputs": [
    {
     "data": {
      "text/plain": [
       "<AxesSubplot:title={'center':'Tweet Emotion Frequency by Product'}, xlabel='Product/Company', ylabel='Frequency'>"
      ]
     },
     "execution_count": 184,
     "metadata": {},
     "output_type": "execute_result"
    },
    {
     "data": {
      "image/png": "[encoded data removed]",
      "text/plain": [
       "<Figure size 720x504 with 1 Axes>"
      ]
     },
     "metadata": {
      "needs_background": "light"
     },
     "output_type": "display_data"
    }
   ],
   "source": [
    "gb.unstack(level=1).plot(kind='bar', \n",
    "                         figsize = (10,7), \n",
    "                         fontsize = 13, \n",
    "                         rot = 75,\n",
    "                         ylabel = 'Frequency',\n",
    "                         xlabel = 'Product/Company',\n",
    "                         title = 'Tweet Emotion Frequency by Product',\n",
    "                         colormap = 'Set2'\n",
    "                        )"
   ]
  },
  {
   "cell_type": "markdown",
   "metadata": {},
   "source": [
    "## Data Cleaning"
   ]
  },
  {
   "cell_type": "code",
   "execution_count": 8,
   "metadata": {},
   "outputs": [],
   "source": [
    "df.rename(columns = {'tweet_text': 'text', 'emotion_in_tweet_is_directed_at': 'product', \n",
    "                     'is_there_an_emotion_directed_at_a_brand_or_product':'emotion'}, inplace = True)"
   ]
  },
  {
   "cell_type": "code",
   "execution_count": 229,
   "metadata": {},
   "outputs": [],
   "source": [
    "df = df[df['emotion'] != \"I can't tell\"]"
   ]
  },
  {
   "cell_type": "code",
   "execution_count": 197,
   "metadata": {},
   "outputs": [],
   "source": [
    "df['text'] = df['text'].astype(str)"
   ]
  },
  {
   "cell_type": "code",
   "execution_count": 189,
   "metadata": {},
   "outputs": [],
   "source": [
    "pattern = \"([a-zA-Z]+(?:'[a-z]+)?)\""
   ]
  },
  {
   "cell_type": "code",
   "execution_count": 198,
   "metadata": {},
   "outputs": [],
   "source": [
    "# Tokenize\n",
    "\n",
    "df['tokens'] = df['text'].apply(lambda x: nltk.regexp_tokenize(x, pattern))"
   ]
  },
  {
   "cell_type": "code",
   "execution_count": 213,
   "metadata": {},
   "outputs": [],
   "source": [
    "# Make sure tokens are lowercase\n",
    "\n",
    "df['tokens'] = df['tokens'].apply(lambda x: [i.lower() for i in x])"
   ]
  },
  {
   "cell_type": "code",
   "execution_count": 212,
   "metadata": {},
   "outputs": [],
   "source": [
    "# Create Stopwords list`\n",
    "\n",
    "stopwords_list = stopwords.words('english')\n",
    "stopwords_list += list(string.punctuation)\n",
    "stopwords_list += list(range(0,10))   "
   ]
  },
  {
   "cell_type": "code",
   "execution_count": 214,
   "metadata": {},
   "outputs": [],
   "source": [
    "# Filter for stopwords\n",
    "\n",
    "df['tokens'] = df['tokens'].apply(lambda x: [i for i in x if i not in stopwords_list ])"
   ]
  },
  {
   "cell_type": "code",
   "execution_count": null,
   "metadata": {},
   "outputs": [],
   "source": []
  },
  {
   "cell_type": "code",
   "execution_count": null,
   "metadata": {},
   "outputs": [],
   "source": []
  },
  {
   "cell_type": "code",
   "execution_count": null,
   "metadata": {},
   "outputs": [],
   "source": []
  },
  {
   "cell_type": "code",
   "execution_count": null,
   "metadata": {},
   "outputs": [],
   "source": []
  },
  {
   "cell_type": "markdown",
   "metadata": {},
   "source": [
    "## Feature Engineering"
   ]
  },
  {
   "cell_type": "code",
   "execution_count": null,
   "metadata": {},
   "outputs": [],
   "source": [
    "# Create new column indicating whether tweet is about apple or google\n",
    "\n",
    "df['split_products'] = df['product'].apply(lambda x: x.split(' ') if type(x) != float else ['nan'])\n",
    "\n",
    "ag_list = []\n",
    "for i in range(len(df['split_products'])):\n",
    "    if any(x in ['Google', 'Android'] for x in df['split_products'][i]):\n",
    "        ag_list.append('google')\n",
    "    elif any(x in ['Apple', 'iPad', 'iPhone'] for x in df['split_products'][i]):\n",
    "        ag_list.append('apple')\n",
    "    else:\n",
    "        ag_list.append('neither')\n",
    "ag_list\n",
    "df['a_or_g'] = ag_list"
   ]
  },
  {
   "cell_type": "code",
   "execution_count": 142,
   "metadata": {
    "collapsed": true
   },
   "outputs": [
    {
     "data": {
      "text/plain": [
       "a_or_g   emotion                           \n",
       "apple    Positive emotion                      1949\n",
       "         Negative emotion                       388\n",
       "         No emotion toward brand or product      65\n",
       "         I can't tell                             7\n",
       "google   Positive emotion                       723\n",
       "         Negative emotion                       131\n",
       "         No emotion toward brand or product      26\n",
       "         I can't tell                             2\n",
       "neither  No emotion toward brand or product    5298\n",
       "         Positive emotion                       306\n",
       "         I can't tell                           147\n",
       "         Negative emotion                        51\n",
       "Name: emotion, dtype: int64"
      ]
     },
     "execution_count": 142,
     "metadata": {},
     "output_type": "execute_result"
    }
   ],
   "source": [
    "ag_gb = df.groupby('a_or_g')['emotion'].value_counts()\n",
    "ag_gb"
   ]
  },
  {
   "cell_type": "code",
   "execution_count": 220,
   "metadata": {},
   "outputs": [
    {
     "data": {
      "text/plain": [
       "'a b'"
      ]
     },
     "execution_count": 220,
     "metadata": {},
     "output_type": "execute_result"
    }
   ],
   "source": [
    "' '.join(['a', 'b'])"
   ]
  },
  {
   "cell_type": "code",
   "execution_count": null,
   "metadata": {},
   "outputs": [],
   "source": [
    "bigram_measures = nltk.collocations.BigramAssocMeasures()\n",
    "#"
   ]
  },
  {
   "cell_type": "code",
   "execution_count": 248,
   "metadata": {},
   "outputs": [
    {
     "name": "stderr",
     "output_type": "stream",
     "text": [
      "<ipython-input-248-f2d6a7b39d4f>:1: SettingWithCopyWarning: \n",
      "A value is trying to be set on a copy of a slice from a DataFrame.\n",
      "Try using .loc[row_indexer,col_indexer] = value instead\n",
      "\n",
      "See the caveats in the documentation: https://pandas.pydata.org/pandas-docs/stable/user_guide/indexing.html#returning-a-view-versus-a-copy\n",
      "  df['tokens_linked']=[\" \".join(token) for token in df['tokens'].values]\n"
     ]
    }
   ],
   "source": [
    "df['tokens_linked']=[\" \".join(token) for token in df['tokens'].values]"
   ]
  },
  {
   "cell_type": "code",
   "execution_count": null,
   "metadata": {},
   "outputs": [],
   "source": []
  },
  {
   "cell_type": "code",
   "execution_count": null,
   "metadata": {},
   "outputs": [],
   "source": []
  },
  {
   "cell_type": "markdown",
   "metadata": {},
   "source": [
    "## EDA 2"
   ]
  },
  {
   "cell_type": "code",
   "execution_count": 185,
   "metadata": {},
   "outputs": [
    {
     "data": {
      "text/plain": [
       "<AxesSubplot:title={'center':'Tweet Emotion Frequency by Company'}, xlabel='Company', ylabel='Frequency'>"
      ]
     },
     "execution_count": 185,
     "metadata": {},
     "output_type": "execute_result"
    },
    {
     "data": {
      "image/png": "[encoded data removed]",
      "text/plain": [
       "<Figure size 720x504 with 1 Axes>"
      ]
     },
     "metadata": {
      "needs_background": "light"
     },
     "output_type": "display_data"
    }
   ],
   "source": [
    "ag_gb.unstack(level = 1).plot(kind = 'bar',\n",
    "                             figsize = (10,7), \n",
    "                             fontsize = 13, \n",
    "                             rot = 75,\n",
    "                             ylabel = 'Frequency',\n",
    "                             xlabel = 'Company',\n",
    "                             title = 'Tweet Emotion Frequency by Company',\n",
    "                             colormap = 'Set2'\n",
    "                             )"
   ]
  },
  {
   "cell_type": "code",
   "execution_count": 186,
   "metadata": {},
   "outputs": [
    {
     "data": {
      "text/plain": [
       "[Text(0.5, 0, 'Company'),\n",
       " Text(0, 0.5, 'Relative Frequency'),\n",
       " Text(0.5, 1.0, 'Company Mention in Tweet Frequency')]"
      ]
     },
     "execution_count": 186,
     "metadata": {},
     "output_type": "execute_result"
    },
    {
     "data": {
      "image/png": "[encoded data removed]",
      "text/plain": [
       "<Figure size 432x288 with 1 Axes>"
      ]
     },
     "metadata": {
      "needs_background": "light"
     },
     "output_type": "display_data"
    }
   ],
   "source": [
    "c_freq = sns.barplot(x = df['a_or_g'].value_counts(normalize = True).index, \n",
    "                    y = df['a_or_g'].value_counts(normalize = True).values,\n",
    "                    order = ['apple', 'google', 'neither'],\n",
    "                    palette = 'Set2'\n",
    "                    )\n",
    "c_freq.set(xlabel = 'Company', \n",
    "           ylabel = 'Relative Frequency',\n",
    "           title = 'Company Mention in Tweet Frequency'\n",
    "          )"
   ]
  },
  {
   "cell_type": "markdown",
   "metadata": {},
   "source": [
    "## Modeling"
   ]
  },
  {
   "cell_type": "code",
   "execution_count": 230,
   "metadata": {},
   "outputs": [
    {
     "data": {
      "text/html": [
       "<div>\n",
       "<style scoped>\n",
       "    .dataframe tbody tr th:only-of-type {\n",
       "        vertical-align: middle;\n",
       "    }\n",
       "\n",
       "    .dataframe tbody tr th {\n",
       "        vertical-align: top;\n",
       "    }\n",
       "\n",
       "    .dataframe thead th {\n",
       "        text-align: right;\n",
       "    }\n",
       "</style>\n",
       "<table border=\"1\" class=\"dataframe\">\n",
       "  <thead>\n",
       "    <tr style=\"text-align: right;\">\n",
       "      <th></th>\n",
       "      <th>text</th>\n",
       "      <th>product</th>\n",
       "      <th>emotion</th>\n",
       "      <th>a_or_g</th>\n",
       "      <th>split_products</th>\n",
       "      <th>tokens</th>\n",
       "    </tr>\n",
       "  </thead>\n",
       "  <tbody>\n",
       "    <tr>\n",
       "      <th>0</th>\n",
       "      <td>.@wesley83 I have a 3G iPhone. After 3 hrs twe...</td>\n",
       "      <td>iPhone</td>\n",
       "      <td>Negative emotion</td>\n",
       "      <td>apple</td>\n",
       "      <td>[iPhone]</td>\n",
       "      <td>[wesley, g, iphone, hrs, tweeting, rise, austi...</td>\n",
       "    </tr>\n",
       "    <tr>\n",
       "      <th>1</th>\n",
       "      <td>@jessedee Know about @fludapp ? Awesome iPad/i...</td>\n",
       "      <td>iPad or iPhone App</td>\n",
       "      <td>Positive emotion</td>\n",
       "      <td>apple</td>\n",
       "      <td>[iPad, or, iPhone, App]</td>\n",
       "      <td>[jessedee, know, fludapp, awesome, ipad, iphon...</td>\n",
       "    </tr>\n",
       "    <tr>\n",
       "      <th>2</th>\n",
       "      <td>@swonderlin Can not wait for #iPad 2 also. The...</td>\n",
       "      <td>iPad</td>\n",
       "      <td>Positive emotion</td>\n",
       "      <td>apple</td>\n",
       "      <td>[iPad]</td>\n",
       "      <td>[swonderlin, wait, ipad, also, sale, sxsw]</td>\n",
       "    </tr>\n",
       "    <tr>\n",
       "      <th>3</th>\n",
       "      <td>@sxsw I hope this year's festival isn't as cra...</td>\n",
       "      <td>iPad or iPhone App</td>\n",
       "      <td>Negative emotion</td>\n",
       "      <td>apple</td>\n",
       "      <td>[iPad, or, iPhone, App]</td>\n",
       "      <td>[sxsw, hope, year's, festival, crashy, year's,...</td>\n",
       "    </tr>\n",
       "    <tr>\n",
       "      <th>4</th>\n",
       "      <td>@sxtxstate great stuff on Fri #SXSW: Marissa M...</td>\n",
       "      <td>Google</td>\n",
       "      <td>Positive emotion</td>\n",
       "      <td>google</td>\n",
       "      <td>[Google]</td>\n",
       "      <td>[sxtxstate, great, stuff, fri, sxsw, marissa, ...</td>\n",
       "    </tr>\n",
       "  </tbody>\n",
       "</table>\n",
       "</div>"
      ],
      "text/plain": [
       "                                                text             product  \\\n",
       "0  .@wesley83 I have a 3G iPhone. After 3 hrs twe...              iPhone   \n",
       "1  @jessedee Know about @fludapp ? Awesome iPad/i...  iPad or iPhone App   \n",
       "2  @swonderlin Can not wait for #iPad 2 also. The...                iPad   \n",
       "3  @sxsw I hope this year's festival isn't as cra...  iPad or iPhone App   \n",
       "4  @sxtxstate great stuff on Fri #SXSW: Marissa M...              Google   \n",
       "\n",
       "            emotion  a_or_g           split_products  \\\n",
       "0  Negative emotion   apple                 [iPhone]   \n",
       "1  Positive emotion   apple  [iPad, or, iPhone, App]   \n",
       "2  Positive emotion   apple                   [iPad]   \n",
       "3  Negative emotion   apple  [iPad, or, iPhone, App]   \n",
       "4  Positive emotion  google                 [Google]   \n",
       "\n",
       "                                              tokens  \n",
       "0  [wesley, g, iphone, hrs, tweeting, rise, austi...  \n",
       "1  [jessedee, know, fludapp, awesome, ipad, iphon...  \n",
       "2         [swonderlin, wait, ipad, also, sale, sxsw]  \n",
       "3  [sxsw, hope, year's, festival, crashy, year's,...  \n",
       "4  [sxtxstate, great, stuff, fri, sxsw, marissa, ...  "
      ]
     },
     "execution_count": 230,
     "metadata": {},
     "output_type": "execute_result"
    }
   ],
   "source": [
    "df.head()"
   ]
  },
  {
   "cell_type": "code",
   "execution_count": 249,
   "metadata": {},
   "outputs": [],
   "source": [
    "data = df['tokens_linked']\n",
    "target = df['emotion']"
   ]
  },
  {
   "cell_type": "code",
   "execution_count": 250,
   "metadata": {},
   "outputs": [],
   "source": [
    "X_train, X_test, y_train, y_test = train_test_split(data, target)"
   ]
  },
  {
   "cell_type": "code",
   "execution_count": 241,
   "metadata": {},
   "outputs": [],
   "source": [
    "total_vocab = set()\n",
    "for i in data:\n",
    "    total_vocab.update(i)"
   ]
  },
  {
   "cell_type": "code",
   "execution_count": 242,
   "metadata": {
    "collapsed": true
   },
   "outputs": [
    {
     "data": {
      "text/plain": [
       "{'passage',\n",
       " 'opinion',\n",
       " 'premiere',\n",
       " 'messing',\n",
       " 'droppin',\n",
       " 'vanessa',\n",
       " 'frustrated',\n",
       " 'snagged',\n",
       " 'analysis',\n",
       " 'wam',\n",
       " 'higher',\n",
       " 'beat',\n",
       " 'austin',\n",
       " 'overcrowded',\n",
       " 'characters',\n",
       " 'pixelated',\n",
       " 'topics',\n",
       " 'rite',\n",
       " 'ur',\n",
       " 'ships',\n",
       " 'bloggable',\n",
       " 'obscure',\n",
       " 'blowingup',\n",
       " 'eh',\n",
       " 'split',\n",
       " 'resetting',\n",
       " 'arduino',\n",
       " 'privacy',\n",
       " 'hyatt',\n",
       " 'telecommuters',\n",
       " 'fawning',\n",
       " 'stayingalive',\n",
       " 'earphones',\n",
       " 'zone',\n",
       " 'raises',\n",
       " 'nerdheaven',\n",
       " 'registers',\n",
       " 'real',\n",
       " 'pearl',\n",
       " 'boyfriend',\n",
       " 'novelty',\n",
       " 'plenty',\n",
       " 'cure',\n",
       " 'fantastico',\n",
       " 'stickers',\n",
       " 'damon',\n",
       " 'msc',\n",
       " 'vote',\n",
       " 'shinmy',\n",
       " 'shirts',\n",
       " 'suggestion',\n",
       " 'ordering',\n",
       " 'communication',\n",
       " 'thanx',\n",
       " 'recognized',\n",
       " 'geogames',\n",
       " 'sore',\n",
       " 'mary',\n",
       " 'guild',\n",
       " 'dog',\n",
       " 'invite',\n",
       " 'begins',\n",
       " 'tsunamis',\n",
       " 'website',\n",
       " 'sxxpress',\n",
       " 'shhhh',\n",
       " 'mid',\n",
       " 'moly',\n",
       " 'fiving',\n",
       " 'powermat',\n",
       " 'mavens',\n",
       " 'bike',\n",
       " 'suckling',\n",
       " 'coworker',\n",
       " 'pour',\n",
       " 'decks',\n",
       " 'tastes',\n",
       " 'swarming',\n",
       " 'capped',\n",
       " 'dudes',\n",
       " 'ye',\n",
       " 'zite',\n",
       " 'young',\n",
       " 'blackberr',\n",
       " 'manager',\n",
       " 'ctr',\n",
       " 'timoreilly',\n",
       " 'brainwashed',\n",
       " 'experiences',\n",
       " 'artikelen',\n",
       " 'type',\n",
       " 'keg',\n",
       " 'pity',\n",
       " 'giggle',\n",
       " 'account',\n",
       " 'rewards',\n",
       " 'guru',\n",
       " 'took',\n",
       " 'hire',\n",
       " 'go',\n",
       " 'tests',\n",
       " 'whowillrise',\n",
       " 'daftary',\n",
       " 'center',\n",
       " 'experiential',\n",
       " 'tax',\n",
       " 'flop',\n",
       " 'incognito',\n",
       " 'acts',\n",
       " 'downloading',\n",
       " 'obs',\n",
       " 'shamed',\n",
       " 'iv',\n",
       " 'poisoning',\n",
       " 'mentionc',\n",
       " 'rocks',\n",
       " 'paid',\n",
       " 'news',\n",
       " 'knock',\n",
       " 'colour',\n",
       " 'thstreet',\n",
       " 'portable',\n",
       " 'alguien',\n",
       " 'percent',\n",
       " 'update',\n",
       " 'students',\n",
       " 'bear',\n",
       " 'conservebatterylife',\n",
       " 'yes',\n",
       " 'groan',\n",
       " 'sxswbarcrawl',\n",
       " 'cuteeeeee',\n",
       " 'want',\n",
       " 'martin',\n",
       " 'signs',\n",
       " 'shots',\n",
       " 'breeds',\n",
       " 'dah',\n",
       " 'sapient',\n",
       " 'wkd',\n",
       " \"who'll\",\n",
       " 'loosing',\n",
       " 'switch',\n",
       " 'atrix',\n",
       " 'hooded',\n",
       " 'rough',\n",
       " 'margarita',\n",
       " 'hooting',\n",
       " 'sky',\n",
       " 'hilton',\n",
       " 'seriously',\n",
       " 'march',\n",
       " 'webmail',\n",
       " 'eg',\n",
       " 'areas',\n",
       " 'ungrateful',\n",
       " 'guilttrip',\n",
       " 'insist',\n",
       " 'abc',\n",
       " 'rolled',\n",
       " 'newbie',\n",
       " 'longform',\n",
       " 'marty',\n",
       " 'tribune',\n",
       " 'dialects',\n",
       " 'awhile',\n",
       " 'sqwill',\n",
       " 'kiosk',\n",
       " 'electric',\n",
       " 'proving',\n",
       " 'cont',\n",
       " 'steam',\n",
       " 'gah',\n",
       " 'eff',\n",
       " 'carriers',\n",
       " 'piday',\n",
       " 'p',\n",
       " 'thanksforthebrandedshades',\n",
       " 'hls',\n",
       " 'brief',\n",
       " 'stroke',\n",
       " 'valley',\n",
       " 'multiplicity',\n",
       " 'designer',\n",
       " 'mind',\n",
       " 'sandwiched',\n",
       " 'connectedcar',\n",
       " 'fact',\n",
       " 'strawberry',\n",
       " 'venues',\n",
       " 'farmers',\n",
       " 'hour',\n",
       " 'dehumanizing',\n",
       " 'disconnectedsundays',\n",
       " 'imrich',\n",
       " 'grabs',\n",
       " 'geeking',\n",
       " 'noh',\n",
       " 'penetrates',\n",
       " 'prodmktg',\n",
       " 'priestess',\n",
       " 'creo',\n",
       " 'fragmentation',\n",
       " 'photo',\n",
       " 'banks',\n",
       " 'notes',\n",
       " 'lovemyjob',\n",
       " 'parcelgenie',\n",
       " 'locked',\n",
       " 'malt',\n",
       " 'role',\n",
       " 'lonelyboy',\n",
       " 'salsa',\n",
       " 'eventful',\n",
       " 'vufinders',\n",
       " 'unusual',\n",
       " 'walmart',\n",
       " 'delegates',\n",
       " 'click',\n",
       " 'ahh',\n",
       " 'simple',\n",
       " 'mozilla',\n",
       " \"tv'ed\",\n",
       " 'offerings',\n",
       " 'except',\n",
       " 'stock',\n",
       " 'startuptribe',\n",
       " 'newsweek',\n",
       " 'former',\n",
       " 'innovate',\n",
       " 'eb',\n",
       " 'inflight',\n",
       " 'banged',\n",
       " 'iamtimbaker',\n",
       " 'buildings',\n",
       " 'pinball',\n",
       " 'alwayshavingtoplugin',\n",
       " 'porn',\n",
       " 'transferring',\n",
       " 'cmw',\n",
       " 'organised',\n",
       " 'notch',\n",
       " 'crossing',\n",
       " 'sings',\n",
       " 'owning',\n",
       " 'magnetic',\n",
       " 'wohooo',\n",
       " 'personal',\n",
       " 'mindjet',\n",
       " 'itun',\n",
       " 'gives',\n",
       " 'honestly',\n",
       " 'unlock',\n",
       " 'allen',\n",
       " 'becoming',\n",
       " 'trees',\n",
       " 'shell',\n",
       " 'existence',\n",
       " 'four',\n",
       " 'brushes',\n",
       " 'focusing',\n",
       " 'aapl',\n",
       " 'dosta',\n",
       " 'brethren',\n",
       " 'kilt',\n",
       " 'hate',\n",
       " 'compels',\n",
       " 'developers',\n",
       " 'sxsma',\n",
       " 'various',\n",
       " 'confines',\n",
       " \"i've\",\n",
       " 'playback',\n",
       " 'lykwxhpyterh',\n",
       " 'lactation',\n",
       " 'commerce',\n",
       " 'horrible',\n",
       " 'trek',\n",
       " 'grateful',\n",
       " 'unconvinced',\n",
       " 'asking',\n",
       " 'tnx',\n",
       " 'softlayer',\n",
       " 'park',\n",
       " 'verizon',\n",
       " 'logical',\n",
       " 'china',\n",
       " 'finder',\n",
       " 'lowtech',\n",
       " 'captain',\n",
       " 'kicking',\n",
       " 'teleporting',\n",
       " 'fr',\n",
       " 'megablaag',\n",
       " 'titles',\n",
       " 'scoremore',\n",
       " 'popupshop',\n",
       " 'lottery',\n",
       " \"mom's\",\n",
       " 'shortcuts',\n",
       " 'leaving',\n",
       " 'computers',\n",
       " 'sheraton',\n",
       " 'followings',\n",
       " 'sweater',\n",
       " 'creatives',\n",
       " 'realization',\n",
       " 'drop',\n",
       " 'breakdown',\n",
       " 'smartcover',\n",
       " 'restroomi',\n",
       " 'gjmypj',\n",
       " 'bestappever',\n",
       " 'rightfully',\n",
       " 'forecast',\n",
       " 'glowstick',\n",
       " 'chart',\n",
       " 'throughout',\n",
       " 'mcree',\n",
       " 'crisiscommons',\n",
       " 'connects',\n",
       " 'chromeo',\n",
       " 'sink',\n",
       " 'pals',\n",
       " 'driving',\n",
       " 'uncertainty',\n",
       " 'suggestions',\n",
       " 'eduvc',\n",
       " 'influence',\n",
       " 'fixed',\n",
       " 'reeling',\n",
       " 'monthly',\n",
       " 'disaster',\n",
       " 'bashing',\n",
       " 'insertion',\n",
       " 'theres',\n",
       " 'frank',\n",
       " 'tipb',\n",
       " 'preparation',\n",
       " 'announced',\n",
       " 'beards',\n",
       " 'scary',\n",
       " 'impediment',\n",
       " 'liveshows',\n",
       " 'recs',\n",
       " 'reminding',\n",
       " 'require',\n",
       " 'jalen',\n",
       " 'jg',\n",
       " 'plucked',\n",
       " 'holytrafficjams',\n",
       " 'blocking',\n",
       " 'version',\n",
       " 'certificate',\n",
       " 'pusher',\n",
       " 'closes',\n",
       " 'biomimicry',\n",
       " 'lbswars',\n",
       " 'tea',\n",
       " 'unlocking',\n",
       " 'groupchatapps',\n",
       " 'bizgym',\n",
       " 'linux',\n",
       " 'hb',\n",
       " 'webex',\n",
       " 'listening',\n",
       " 'austins',\n",
       " 'responsibility',\n",
       " 'reassemble',\n",
       " 'congrats',\n",
       " 'fades',\n",
       " 'stampede',\n",
       " 'psyched',\n",
       " 'gadgetzilla',\n",
       " 'head',\n",
       " 'patch',\n",
       " 'terminal',\n",
       " 'billings',\n",
       " 'piccraft',\n",
       " 'popchicks',\n",
       " 'fork',\n",
       " 'fluid',\n",
       " 'brewing',\n",
       " 'suxsw',\n",
       " 'education',\n",
       " 'mood',\n",
       " \"night's\",\n",
       " 'hawk',\n",
       " 'performing',\n",
       " 'results',\n",
       " 'finishing',\n",
       " 'affect',\n",
       " 'zbowling',\n",
       " 'globalbestaward',\n",
       " 'blows',\n",
       " 'headlong',\n",
       " 'symbian',\n",
       " 'question',\n",
       " 'pollak',\n",
       " 'classiest',\n",
       " 'https',\n",
       " 'growing',\n",
       " 'wha',\n",
       " 'holla',\n",
       " 'bavc',\n",
       " 'skype',\n",
       " 'holster',\n",
       " 'sitby',\n",
       " 'brace',\n",
       " 'cardless',\n",
       " 'keynote',\n",
       " 'apaan',\n",
       " 'livingthedream',\n",
       " 'spread',\n",
       " 'volume',\n",
       " 'idiot',\n",
       " 'communications',\n",
       " 'complicated',\n",
       " 'geekdate',\n",
       " 'ip',\n",
       " 'cuz',\n",
       " 'report',\n",
       " 'gatorade',\n",
       " 'hootsuite',\n",
       " 'republic',\n",
       " 'summon',\n",
       " 'upset',\n",
       " 'applesxsw',\n",
       " 'serendipity',\n",
       " 'outside',\n",
       " 'surgery',\n",
       " 'shop',\n",
       " 'flatulence',\n",
       " 'session',\n",
       " 'sans',\n",
       " 'cheeky',\n",
       " 'lookalike',\n",
       " 'watch',\n",
       " 'rant',\n",
       " 'vacuous',\n",
       " 'pedicab',\n",
       " 'legal',\n",
       " 'unveiled',\n",
       " 'acknowledge',\n",
       " 'attending',\n",
       " 'mean',\n",
       " 'hook',\n",
       " 'dreaded',\n",
       " 'organic',\n",
       " 'snackers',\n",
       " 'tunehopper',\n",
       " 'awesomely',\n",
       " 'gdgtaustin',\n",
       " 'mash',\n",
       " 'popups',\n",
       " 'streamed',\n",
       " 'searchable',\n",
       " 'lock',\n",
       " 'nook',\n",
       " 'qik',\n",
       " 'static',\n",
       " 'ranking',\n",
       " 'cinemagoers',\n",
       " \"people's\",\n",
       " 'ridiculously',\n",
       " 'outlook',\n",
       " 'readability',\n",
       " 'bldg',\n",
       " 'lwr',\n",
       " 'craps',\n",
       " 'equity',\n",
       " 'ehteam',\n",
       " 'stream',\n",
       " 'occasionally',\n",
       " 'poos',\n",
       " 'forget',\n",
       " 'tx',\n",
       " 'hyped',\n",
       " 'invoking',\n",
       " 'badform',\n",
       " 'net',\n",
       " 'uses',\n",
       " 'signed',\n",
       " 'thinmints',\n",
       " 'craigslistkiller',\n",
       " 'imaconf',\n",
       " 'matter',\n",
       " 'frustrating',\n",
       " 'ubertwitter',\n",
       " 'jet',\n",
       " 'submitting',\n",
       " 'booby',\n",
       " 'math',\n",
       " 'quibids',\n",
       " 'steal',\n",
       " 'lying',\n",
       " 'timeline',\n",
       " 'npr',\n",
       " 'learn',\n",
       " 'sabotaged',\n",
       " 'aclu',\n",
       " 'rounds',\n",
       " 'sell',\n",
       " 'trying',\n",
       " 'annoying',\n",
       " 'lined',\n",
       " 'rollin',\n",
       " 'amhealth',\n",
       " 'integration',\n",
       " 'leider',\n",
       " 'snoring',\n",
       " 'contribution',\n",
       " 'anyways',\n",
       " 'together',\n",
       " 'io',\n",
       " 'considering',\n",
       " \"bricklin's\",\n",
       " 'impactdashboard',\n",
       " 'lybian',\n",
       " 'owl',\n",
       " 'nptech',\n",
       " 'ensures',\n",
       " 'alan',\n",
       " 'terrible',\n",
       " 'brunch',\n",
       " 'williams',\n",
       " 'chain',\n",
       " 'pumps',\n",
       " 'given',\n",
       " 'ipod',\n",
       " 'boomers',\n",
       " 'waffling',\n",
       " 'confession',\n",
       " 'needle',\n",
       " 'hackathon',\n",
       " 'cleveland',\n",
       " 'signal',\n",
       " 'end',\n",
       " 'low',\n",
       " 'monster',\n",
       " 'streams',\n",
       " 'podcast',\n",
       " 'revealed',\n",
       " 'preso',\n",
       " 'clarity',\n",
       " 'keyboards',\n",
       " 'cattle',\n",
       " 'batterykiller',\n",
       " 'release',\n",
       " 'divorce',\n",
       " 'weeknd',\n",
       " 'donlot',\n",
       " 'wallace',\n",
       " 'eye',\n",
       " 'hotel',\n",
       " 'sixth',\n",
       " 'lugging',\n",
       " 'meaning',\n",
       " \"yesterday's\",\n",
       " 'designflaws',\n",
       " 'mb',\n",
       " 'bynd',\n",
       " 'feeling',\n",
       " 'cor',\n",
       " 'futurecast',\n",
       " 'filtering',\n",
       " 'saytextson',\n",
       " 'lotta',\n",
       " 'note',\n",
       " 'sundance',\n",
       " 'eid',\n",
       " 'posterousevents',\n",
       " 'hobo',\n",
       " 'akqas',\n",
       " 'automated',\n",
       " 'hell',\n",
       " \"ipad's\",\n",
       " \"gov't\",\n",
       " 'socnet',\n",
       " 'touch',\n",
       " 'uidesignguide',\n",
       " 'linkedin',\n",
       " 'manage',\n",
       " 'demonstration',\n",
       " 'vuvuzela',\n",
       " 'ther',\n",
       " 'attended',\n",
       " 'musik',\n",
       " 'rebranded',\n",
       " 'intriguing',\n",
       " 'duncan',\n",
       " 'interested',\n",
       " 'artallaround',\n",
       " \"year's\",\n",
       " 'sack',\n",
       " 'focused',\n",
       " 'spins',\n",
       " 'rip',\n",
       " 'ocarina',\n",
       " 'received',\n",
       " 'khan',\n",
       " 'alot',\n",
       " 'tabletwars',\n",
       " 'priest',\n",
       " 'nik',\n",
       " 'cursor',\n",
       " 'fludapp',\n",
       " 'autistic',\n",
       " 'gig',\n",
       " \"woman's\",\n",
       " 'webber',\n",
       " 'geek',\n",
       " 'things',\n",
       " 'visualization',\n",
       " 'somewhere',\n",
       " 'widely',\n",
       " 'shout',\n",
       " 'conversation',\n",
       " \"evr's\",\n",
       " 'iwantacr',\n",
       " 'sunday',\n",
       " 'zuckerberg',\n",
       " 'extraordinary',\n",
       " 'remake',\n",
       " 'stacked',\n",
       " 'older',\n",
       " 'team',\n",
       " 'creepily',\n",
       " 'iphonedev',\n",
       " 'notebook',\n",
       " 'basic',\n",
       " 'larger',\n",
       " 'world',\n",
       " 'galore',\n",
       " 'announce',\n",
       " 'accommodate',\n",
       " 'dorkinout',\n",
       " 'sprout',\n",
       " 'topnews',\n",
       " 'digitally',\n",
       " 'nonprofit',\n",
       " 'bridge',\n",
       " 'bgr',\n",
       " 'contrary',\n",
       " 'karaoke',\n",
       " 'wcag',\n",
       " 'stogies',\n",
       " 'ooing',\n",
       " 'tree',\n",
       " 'dream',\n",
       " 'compact',\n",
       " 'aligned',\n",
       " 'californians',\n",
       " 'cartel',\n",
       " 'comers',\n",
       " 'venn',\n",
       " 'jqtouch',\n",
       " 'describe',\n",
       " 'spiltbeer',\n",
       " 'demolition',\n",
       " 'twitterstream',\n",
       " 'opened',\n",
       " 'mccannsxsw',\n",
       " 'sangre',\n",
       " 'fishing',\n",
       " 'crappy',\n",
       " 'lists',\n",
       " 'flat',\n",
       " 'terrace',\n",
       " 'fad',\n",
       " 'msft',\n",
       " 'necessary',\n",
       " 'stand',\n",
       " 'employers',\n",
       " 'spreading',\n",
       " 'paraormal',\n",
       " 'nc',\n",
       " 'flow',\n",
       " 'bizzy',\n",
       " 'powering',\n",
       " 'enabled',\n",
       " 'adi',\n",
       " 'googlecircles',\n",
       " 'classy',\n",
       " 'rumors',\n",
       " 'rig',\n",
       " 'funnels',\n",
       " 'picked',\n",
       " 'chances',\n",
       " 'fanboyism',\n",
       " 'juan',\n",
       " 'ittttt',\n",
       " 'gswsxsw',\n",
       " 'pure',\n",
       " 'onerous',\n",
       " 'christmas',\n",
       " 'cerebral',\n",
       " 'cus',\n",
       " 'interest',\n",
       " \"calendar's\",\n",
       " 'refine',\n",
       " 'ckers',\n",
       " 'brutal',\n",
       " 'search',\n",
       " 'piercings',\n",
       " 'heathcare',\n",
       " 'lonely',\n",
       " 'tt',\n",
       " 'admob',\n",
       " 'wozniak',\n",
       " 'slate',\n",
       " 'artists',\n",
       " 'ground',\n",
       " 'thst',\n",
       " 'plush',\n",
       " 'finalist',\n",
       " 'gains',\n",
       " 'launches',\n",
       " 'wishful',\n",
       " 'weeping',\n",
       " 'testers',\n",
       " 'leave',\n",
       " 'null',\n",
       " 'heads',\n",
       " 'us',\n",
       " 'breakthrough',\n",
       " 'satesman',\n",
       " 'discontinued',\n",
       " 'insists',\n",
       " 'ridonkulous',\n",
       " 'expert',\n",
       " 'energy',\n",
       " 'software',\n",
       " 'uitp',\n",
       " 'nerdiest',\n",
       " 'exist',\n",
       " 'bet',\n",
       " 'charm',\n",
       " 'routes',\n",
       " 'watched',\n",
       " 'dmi',\n",
       " 'tvs',\n",
       " 'ending',\n",
       " 'global',\n",
       " 'exposing',\n",
       " 'listings',\n",
       " 'bandwidth',\n",
       " 'announcing',\n",
       " 'pressure',\n",
       " 'medium',\n",
       " 'strangeproblems',\n",
       " \"u're\",\n",
       " 'compiled',\n",
       " 'frontend',\n",
       " 'sharing',\n",
       " 'centre',\n",
       " 'signup',\n",
       " 'conventionctr',\n",
       " 'rpg',\n",
       " 'shoot',\n",
       " 'teachntech',\n",
       " 'instore',\n",
       " 'monetize',\n",
       " 'partytweets',\n",
       " 'statistics',\n",
       " 'admission',\n",
       " 'ends',\n",
       " 'orkut',\n",
       " 'nuanced',\n",
       " 'need',\n",
       " 'spots',\n",
       " 'porting',\n",
       " \"in's\",\n",
       " 'pedals',\n",
       " 'vuitton',\n",
       " 'rallies',\n",
       " 'soon',\n",
       " 'longlinesbadux',\n",
       " 'http',\n",
       " 'tnw',\n",
       " 'central',\n",
       " 'cut',\n",
       " 'moderator',\n",
       " 'hacking',\n",
       " 'thisisdare',\n",
       " 'independent',\n",
       " 'exceptions',\n",
       " 'elsewhere',\n",
       " 'spotting',\n",
       " 'lessons',\n",
       " 'debating',\n",
       " 'donated',\n",
       " 'dispenses',\n",
       " 'prepaid',\n",
       " 'creative',\n",
       " 'lack',\n",
       " 'hunt',\n",
       " 'thank',\n",
       " 'injury',\n",
       " \"arm's\",\n",
       " 'th',\n",
       " 'smmnextgen',\n",
       " 'teathering',\n",
       " 'sxswsa',\n",
       " 'pepsico',\n",
       " 'brings',\n",
       " 'tab',\n",
       " 'aftrnoon',\n",
       " 'hanging',\n",
       " 'gallery',\n",
       " 'hotspots',\n",
       " 'transit',\n",
       " 'fascist',\n",
       " 'trumps',\n",
       " 'cam',\n",
       " 'gooddeed',\n",
       " 'nerdier',\n",
       " \"smurf's\",\n",
       " 'maes',\n",
       " 'rock',\n",
       " 'junkie',\n",
       " 'gb',\n",
       " 'rebels',\n",
       " 'lifetime',\n",
       " 'streaming',\n",
       " 'goddesses',\n",
       " 'saber',\n",
       " 'digging',\n",
       " 'asap',\n",
       " 'dailygrape',\n",
       " 'useful',\n",
       " 'plunge',\n",
       " 'include',\n",
       " 'compass',\n",
       " 'unexpectedly',\n",
       " 'biggest',\n",
       " 'smc',\n",
       " 'entirely',\n",
       " 'worse',\n",
       " 'cameras',\n",
       " 'ditto',\n",
       " 'hackers',\n",
       " 'chosen',\n",
       " 'andriod',\n",
       " 'pawn',\n",
       " 'separate',\n",
       " 'omgz',\n",
       " 'edtech',\n",
       " 'sketchbooks',\n",
       " 'phillip',\n",
       " 'elements',\n",
       " 'sprinkle',\n",
       " 'controller',\n",
       " 'profile',\n",
       " 'pops',\n",
       " 'speed',\n",
       " 'realize',\n",
       " 'reily',\n",
       " 'conference',\n",
       " 'half',\n",
       " 'bat',\n",
       " 'reading',\n",
       " 'dejavu',\n",
       " 'toward',\n",
       " 'solve',\n",
       " 'wkend',\n",
       " 'fado',\n",
       " 'quiet',\n",
       " 'opposite',\n",
       " 'therefore',\n",
       " 'agencies',\n",
       " 'actionable',\n",
       " 'balsamic',\n",
       " 'scent',\n",
       " 'keeps',\n",
       " 'hp',\n",
       " 'approaches',\n",
       " 'mel',\n",
       " 'sec',\n",
       " 'carrying',\n",
       " 'kid',\n",
       " 'navigate',\n",
       " 'arrow',\n",
       " 'empowering',\n",
       " 'instant',\n",
       " 'hottest',\n",
       " 'mo',\n",
       " 'objective',\n",
       " 'synched',\n",
       " \"y'all\",\n",
       " \"we'll\",\n",
       " 'conversion',\n",
       " 'names',\n",
       " 'halls',\n",
       " 'street',\n",
       " 'lowest',\n",
       " 'industrialdesign',\n",
       " 'untrue',\n",
       " 'css',\n",
       " 'sync',\n",
       " 'crafty',\n",
       " 'smaroi',\n",
       " 'letter',\n",
       " 'mass',\n",
       " 'raffled',\n",
       " 'sapo',\n",
       " 'minded',\n",
       " 'convince',\n",
       " 'advantage',\n",
       " 'difficult',\n",
       " \"akqa's\",\n",
       " 'stalled',\n",
       " 'datasets',\n",
       " 'ly',\n",
       " 'industry',\n",
       " 'chaos',\n",
       " 'map',\n",
       " 'siliconvalley',\n",
       " 'pointer',\n",
       " 'gadgets',\n",
       " 'dokobots',\n",
       " 'said',\n",
       " 'hacked',\n",
       " 'tweetanonymous',\n",
       " 'eeducation',\n",
       " 'tshirts',\n",
       " 'kelt',\n",
       " 'popup',\n",
       " 'instantly',\n",
       " 'pbs',\n",
       " 'pack',\n",
       " 'scheduler',\n",
       " 'moose',\n",
       " 'solution',\n",
       " 'details',\n",
       " 'browse',\n",
       " 'lift',\n",
       " 'helps',\n",
       " 'er',\n",
       " 'bull',\n",
       " 'facetime',\n",
       " 'comparing',\n",
       " 'simplest',\n",
       " 'escape',\n",
       " 'precommerce',\n",
       " 'sxsurrogates',\n",
       " 'conventions',\n",
       " 'non',\n",
       " 'holding',\n",
       " 'bateman',\n",
       " 'easily',\n",
       " 'explains',\n",
       " 'strong',\n",
       " 'overthere',\n",
       " 'feelings',\n",
       " 'frictionless',\n",
       " 'speller',\n",
       " 'wait',\n",
       " 'preferences',\n",
       " 'forward',\n",
       " 'margin',\n",
       " 'obvious',\n",
       " 'denim',\n",
       " 'consumption',\n",
       " 'custom',\n",
       " 'doingitwrong',\n",
       " 'hacks',\n",
       " 'hopeyoudidntgivehimnone',\n",
       " 'development',\n",
       " 'ze',\n",
       " 'pragmatic',\n",
       " 'baby',\n",
       " 'stresses',\n",
       " 'sport',\n",
       " 'socialnews',\n",
       " 'correcting',\n",
       " 'loving',\n",
       " 'annoyed',\n",
       " 'take',\n",
       " \"it'll\",\n",
       " 'makes',\n",
       " 'bring',\n",
       " 'corp',\n",
       " 'host',\n",
       " 'perma',\n",
       " 'ave',\n",
       " 'pagerduty',\n",
       " 'getoutthevote',\n",
       " 'unless',\n",
       " 'lug',\n",
       " 'crm',\n",
       " 'forests',\n",
       " 'cocoon',\n",
       " 'attached',\n",
       " 'blackberry',\n",
       " 'nytimes',\n",
       " 'presenting',\n",
       " 'festgoers',\n",
       " 'classicaudiencemisread',\n",
       " 'stations',\n",
       " ...}"
      ]
     },
     "execution_count": 242,
     "metadata": {},
     "output_type": "execute_result"
    }
   ],
   "source": [
    "total_vocab"
   ]
  },
  {
   "cell_type": "code",
   "execution_count": 57,
   "metadata": {},
   "outputs": [],
   "source": [
    "vectorizer = TfidfVectorizer()\n",
    "tf_idf_data_train = vectorizer.fit_transform(X_train)\n",
    "tf_idf_data_test = vectorizer.transform(X_test)"
   ]
  },
  {
   "cell_type": "markdown",
   "metadata": {},
   "source": [
    "### Naive-Bayes"
   ]
  },
  {
   "cell_type": "code",
   "execution_count": 60,
   "metadata": {},
   "outputs": [],
   "source": [
    "nb = MultinomialNB()"
   ]
  },
  {
   "cell_type": "code",
   "execution_count": 61,
   "metadata": {},
   "outputs": [
    {
     "data": {
      "text/plain": [
       "MultinomialNB()"
      ]
     },
     "execution_count": 61,
     "metadata": {},
     "output_type": "execute_result"
    }
   ],
   "source": [
    "nb.fit(tf_idf_data_train, y_train)"
   ]
  },
  {
   "cell_type": "code",
   "execution_count": 62,
   "metadata": {},
   "outputs": [],
   "source": [
    "nb_train_pred = nb.predict(tf_idf_data_train)\n",
    "nb_test_pred = nb.predict(tf_idf_data_test)"
   ]
  },
  {
   "cell_type": "markdown",
   "metadata": {},
   "source": [
    "### Support Vector Machine"
   ]
  },
  {
   "cell_type": "code",
   "execution_count": 70,
   "metadata": {},
   "outputs": [],
   "source": [
    "svm = SVC()"
   ]
  },
  {
   "cell_type": "code",
   "execution_count": 71,
   "metadata": {},
   "outputs": [
    {
     "data": {
      "text/plain": [
       "SVC(degree=10)"
      ]
     },
     "execution_count": 71,
     "metadata": {},
     "output_type": "execute_result"
    }
   ],
   "source": [
    "svm.fit(tf_idf_data_train, y_train)"
   ]
  },
  {
   "cell_type": "code",
   "execution_count": 72,
   "metadata": {},
   "outputs": [],
   "source": [
    "svm_train_pred = svm.predict(tf_idf_data_train)\n",
    "svm_test_pred = svm.predict(tf_idf_data_test)"
   ]
  },
  {
   "cell_type": "markdown",
   "metadata": {},
   "source": [
    "### Random Forest"
   ]
  },
  {
   "cell_type": "code",
   "execution_count": 83,
   "metadata": {},
   "outputs": [],
   "source": [
    "rfc = RandomForestClassifier(n_estimators = 500)"
   ]
  },
  {
   "cell_type": "code",
   "execution_count": 84,
   "metadata": {},
   "outputs": [
    {
     "data": {
      "text/plain": [
       "RandomForestClassifier(n_estimators=500)"
      ]
     },
     "execution_count": 84,
     "metadata": {},
     "output_type": "execute_result"
    }
   ],
   "source": [
    "rfc.fit(tf_idf_data_train, y_train)"
   ]
  },
  {
   "cell_type": "code",
   "execution_count": 85,
   "metadata": {},
   "outputs": [],
   "source": [
    "rfc_train_pred = rfc.predict(tf_idf_data_train)\n",
    "rfc_test_pred = rfc.predict(tf_idf_data_test)"
   ]
  },
  {
   "cell_type": "markdown",
   "metadata": {},
   "source": [
    "## Model Evalutation"
   ]
  },
  {
   "cell_type": "code",
   "execution_count": 65,
   "metadata": {},
   "outputs": [
    {
     "name": "stdout",
     "output_type": "stream",
     "text": [
      "NB train 0.7416043408124359\n",
      "NB test 0.6341248900615655\n"
     ]
    }
   ],
   "source": [
    "print('NB train', accuracy_score(y_train, nb_train_pred))\n",
    "print('NB test', accuracy_score(y_test, nb_test_pred))"
   ]
  },
  {
   "cell_type": "code",
   "execution_count": 82,
   "metadata": {},
   "outputs": [
    {
     "name": "stdout",
     "output_type": "stream",
     "text": [
      "SVM train 0.8926528816542015\n",
      "SVM test 0.6666666666666666\n"
     ]
    }
   ],
   "source": [
    "print('SVM train', accuracy_score(y_train, svm_train_pred))\n",
    "print('SVM test', accuracy_score(y_test, svm_test_pred))"
   ]
  },
  {
   "cell_type": "code",
   "execution_count": 86,
   "metadata": {},
   "outputs": [
    {
     "name": "stdout",
     "output_type": "stream",
     "text": [
      "RFC train 0.9945739844551987\n",
      "RFC test 0.6631486367634125\n"
     ]
    }
   ],
   "source": [
    "print('RFC train', accuracy_score(y_train, rfc_train_pred))\n",
    "print('RFC test', accuracy_score(y_test, rfc_test_pred))"
   ]
  },
  {
   "cell_type": "code",
   "execution_count": null,
   "metadata": {},
   "outputs": [],
   "source": []
  }
 ],
 "metadata": {
  "kernelspec": {
   "display_name": "learn-env",
   "language": "python",
   "name": "learn-env"
  },
  "language_info": {
   "codemirror_mode": {
    "name": "ipython",
    "version": 3
   },
   "file_extension": ".py",
   "mimetype": "text/x-python",
   "name": "python",
   "nbconvert_exporter": "python",
   "pygments_lexer": "ipython3",
   "version": "3.8.5"
  }
 },
 "nbformat": 4,
 "nbformat_minor": 4
}
